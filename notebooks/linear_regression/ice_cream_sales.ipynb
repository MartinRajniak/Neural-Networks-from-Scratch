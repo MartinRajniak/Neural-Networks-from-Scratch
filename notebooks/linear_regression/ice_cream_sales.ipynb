{
 "cells": [
  {
   "cell_type": "markdown",
   "id": "bf439ef3",
   "metadata": {},
   "source": [
    "# Prediction Ice Cream Sales with Linear Regression\n",
    "\n"
   ]
  },
  {
   "cell_type": "markdown",
   "id": "362be688",
   "metadata": {},
   "source": [
    "Data set has 2 input features: Temperature in °C and Is Weekend flag (0/1).\n",
    "Target is called Ice Creams Sold.\n",
    "\n",
    "Neural network used can only have single input layer and single output layer without activation functions."
   ]
  },
  {
   "cell_type": "markdown",
   "id": "c77f67f7",
   "metadata": {},
   "source": [
    "## Set up environment"
   ]
  },
  {
   "cell_type": "code",
   "execution_count": 1,
   "id": "db55e1c3",
   "metadata": {},
   "outputs": [],
   "source": [
    "import sys\n",
    "import os\n",
    "\n",
    "project_root = os.path.abspath(os.path.join(os.getcwd(), '../..'))\n",
    "if project_root not in sys.path:\n",
    "    sys.path.append(project_root)\n",
    "\n",
    "from src.draw_graph import draw_dot\n",
    "from src.model.builder import build_regression_model\n",
    "from src.model.training import train_model\n",
    "from src.model.evaluation import evaluate_model\n",
    "from src.model.hp_tuning import start_hp_search\n",
    "\n",
    "import random\n",
    "random.seed(42)\n",
    "\n",
    "import numpy as np\n",
    "np.random.seed(42) \n",
    "\n",
    "import pandas as pd\n",
    "from pandas import DataFrame\n",
    "\n",
    "from matplotlib import pyplot as plt"
   ]
  },
  {
   "cell_type": "markdown",
   "id": "fa7608d2",
   "metadata": {},
   "source": [
    "## Hyperparams"
   ]
  },
  {
   "cell_type": "code",
   "execution_count": 2,
   "id": "8050d3c5",
   "metadata": {},
   "outputs": [],
   "source": [
    "TEST_SIZE = 0.1\n",
    "\n",
    "# 1e-2 is too high for more than one neuron (exploding gradients)\n",
    "# 1e-3 makes training too erratic (jumping around minimum)\n",
    "LEARNING_RATE = 1e-4\n",
    "BATCH_SIZE = 8\n",
    "\n",
    "EPOCHS = 1000\n",
    "\n",
    "EARLY_STOPPING_PATIENCE = 10\n",
    "EARLY_STOPPING_DELTA = 1e-3\n",
    "\n",
    "HIDDEN_LAYERS_NUM = 0\n",
    "HIDDEN_NEURONS_NUM = 0"
   ]
  },
  {
   "cell_type": "markdown",
   "id": "8ac7eee7",
   "metadata": {},
   "source": [
    "## Load data"
   ]
  },
  {
   "cell_type": "code",
   "execution_count": 3,
   "id": "a68d15bc",
   "metadata": {},
   "outputs": [
    {
     "data": {
      "text/html": [
       "<div>\n",
       "<style scoped>\n",
       "    .dataframe tbody tr th:only-of-type {\n",
       "        vertical-align: middle;\n",
       "    }\n",
       "\n",
       "    .dataframe tbody tr th {\n",
       "        vertical-align: top;\n",
       "    }\n",
       "\n",
       "    .dataframe thead th {\n",
       "        text-align: right;\n",
       "    }\n",
       "</style>\n",
       "<table border=\"1\" class=\"dataframe\">\n",
       "  <thead>\n",
       "    <tr style=\"text-align: right;\">\n",
       "      <th></th>\n",
       "      <th>Temperature</th>\n",
       "      <th>Is_Weekend</th>\n",
       "      <th>Ice_Creams_Sold</th>\n",
       "    </tr>\n",
       "  </thead>\n",
       "  <tbody>\n",
       "    <tr>\n",
       "      <th>110</th>\n",
       "      <td>18.692544</td>\n",
       "      <td>1</td>\n",
       "      <td>203</td>\n",
       "    </tr>\n",
       "    <tr>\n",
       "      <th>419</th>\n",
       "      <td>32.571236</td>\n",
       "      <td>0</td>\n",
       "      <td>275</td>\n",
       "    </tr>\n",
       "    <tr>\n",
       "      <th>565</th>\n",
       "      <td>27.697531</td>\n",
       "      <td>1</td>\n",
       "      <td>274</td>\n",
       "    </tr>\n",
       "    <tr>\n",
       "      <th>77</th>\n",
       "      <td>12.221340</td>\n",
       "      <td>0</td>\n",
       "      <td>104</td>\n",
       "    </tr>\n",
       "    <tr>\n",
       "      <th>181</th>\n",
       "      <td>13.404206</td>\n",
       "      <td>0</td>\n",
       "      <td>136</td>\n",
       "    </tr>\n",
       "  </tbody>\n",
       "</table>\n",
       "</div>"
      ],
      "text/plain": [
       "     Temperature  Is_Weekend  Ice_Creams_Sold\n",
       "110    18.692544           1              203\n",
       "419    32.571236           0              275\n",
       "565    27.697531           1              274\n",
       "77     12.221340           0              104\n",
       "181    13.404206           0              136"
      ]
     },
     "execution_count": 3,
     "metadata": {},
     "output_type": "execute_result"
    }
   ],
   "source": [
    "df = pd.read_csv(\"ice_cream_data.csv\", sep=\",\")\n",
    "df = df.sample(frac=1, random_state=42)\n",
    "df.head()"
   ]
  },
  {
   "cell_type": "markdown",
   "id": "2d5c47b7",
   "metadata": {},
   "source": [
    "### Separate input from target"
   ]
  },
  {
   "cell_type": "code",
   "execution_count": 4,
   "id": "a4df42bb",
   "metadata": {},
   "outputs": [],
   "source": [
    "targets = df[\"Ice_Creams_Sold\"]\n",
    "inputs = df.drop([\"Ice_Creams_Sold\"], axis=1)"
   ]
  },
  {
   "cell_type": "code",
   "execution_count": 5,
   "id": "d85bfcae",
   "metadata": {},
   "outputs": [
    {
     "data": {
      "text/plain": [
       "Temperature    10.151848\n",
       "Is_Weekend      0.000000\n",
       "dtype: float64"
      ]
     },
     "execution_count": 5,
     "metadata": {},
     "output_type": "execute_result"
    }
   ],
   "source": [
    "inputs.min()"
   ]
  },
  {
   "cell_type": "code",
   "execution_count": 6,
   "id": "e26679a8",
   "metadata": {},
   "outputs": [
    {
     "data": {
      "text/plain": [
       "Temperature    39.99153\n",
       "Is_Weekend      1.00000\n",
       "dtype: float64"
      ]
     },
     "execution_count": 6,
     "metadata": {},
     "output_type": "execute_result"
    }
   ],
   "source": [
    "inputs.max()"
   ]
  },
  {
   "cell_type": "markdown",
   "id": "af3b1ae8",
   "metadata": {},
   "source": [
    "### Normalize input"
   ]
  },
  {
   "cell_type": "code",
   "execution_count": 7,
   "id": "50535329",
   "metadata": {},
   "outputs": [],
   "source": [
    "def normalize_input(X: DataFrame):\n",
    "    result = (X - X.min()) / (X.max() - X.min())\n",
    "    return result"
   ]
  },
  {
   "cell_type": "code",
   "execution_count": 8,
   "id": "19f0f1eb",
   "metadata": {},
   "outputs": [],
   "source": [
    "norm_inputs = normalize_input(inputs)"
   ]
  },
  {
   "cell_type": "code",
   "execution_count": 9,
   "id": "1f554657",
   "metadata": {},
   "outputs": [
    {
     "data": {
      "text/plain": [
       "Temperature    0.0\n",
       "Is_Weekend     0.0\n",
       "dtype: float64"
      ]
     },
     "execution_count": 9,
     "metadata": {},
     "output_type": "execute_result"
    }
   ],
   "source": [
    "norm_inputs.min()"
   ]
  },
  {
   "cell_type": "code",
   "execution_count": 10,
   "id": "baccf532",
   "metadata": {},
   "outputs": [
    {
     "data": {
      "text/plain": [
       "Temperature    1.0\n",
       "Is_Weekend     1.0\n",
       "dtype: float64"
      ]
     },
     "execution_count": 10,
     "metadata": {},
     "output_type": "execute_result"
    }
   ],
   "source": [
    "norm_inputs.max()"
   ]
  },
  {
   "cell_type": "markdown",
   "id": "a89edbe1",
   "metadata": {},
   "source": [
    "### Numpy"
   ]
  },
  {
   "cell_type": "code",
   "execution_count": 11,
   "id": "bdeb0e1f",
   "metadata": {},
   "outputs": [
    {
     "data": {
      "text/plain": [
       "array([[0.2862194 , 1.        ],\n",
       "       [0.75132798, 0.        ],\n",
       "       [0.58799831, 1.        ],\n",
       "       [0.06935369, 0.        ],\n",
       "       [0.10899439, 0.        ]])"
      ]
     },
     "execution_count": 11,
     "metadata": {},
     "output_type": "execute_result"
    }
   ],
   "source": [
    "inputs = norm_inputs.to_numpy()\n",
    "inputs[:5]"
   ]
  },
  {
   "cell_type": "code",
   "execution_count": 12,
   "id": "8032bf0c",
   "metadata": {},
   "outputs": [
    {
     "data": {
      "text/plain": [
       "(600, 2)"
      ]
     },
     "execution_count": 12,
     "metadata": {},
     "output_type": "execute_result"
    }
   ],
   "source": [
    "inputs.shape"
   ]
  },
  {
   "cell_type": "code",
   "execution_count": 13,
   "id": "27286a56",
   "metadata": {},
   "outputs": [],
   "source": [
    "n_inputs = inputs.shape[1]"
   ]
  },
  {
   "cell_type": "code",
   "execution_count": 14,
   "id": "d112e5c5",
   "metadata": {},
   "outputs": [
    {
     "data": {
      "text/plain": [
       "array([203, 275, 274, 104, 136])"
      ]
     },
     "execution_count": 14,
     "metadata": {},
     "output_type": "execute_result"
    }
   ],
   "source": [
    "targets = targets.to_numpy()\n",
    "targets[:5]"
   ]
  },
  {
   "cell_type": "markdown",
   "id": "763b4c0e",
   "metadata": {},
   "source": [
    "### Train vs. Test set"
   ]
  },
  {
   "cell_type": "code",
   "execution_count": 15,
   "id": "3b9a0d86",
   "metadata": {},
   "outputs": [
    {
     "name": "stdout",
     "output_type": "stream",
     "text": [
      "Train size: 540, Test size: 60\n"
     ]
    }
   ],
   "source": [
    "test_size = int(len(inputs) * TEST_SIZE)\n",
    "print(f\"Train size: {len(inputs) - test_size}, Test size: {test_size}\")\n",
    "\n",
    "inputs_train = inputs[:-test_size]\n",
    "targets_train = targets[:-test_size]\n",
    "\n",
    "inputs_test = inputs[-test_size:]\n",
    "targets_test = targets[-test_size:]"
   ]
  },
  {
   "cell_type": "markdown",
   "id": "ebfab000",
   "metadata": {},
   "source": [
    "## Train Model"
   ]
  },
  {
   "cell_type": "markdown",
   "id": "60031968",
   "metadata": {},
   "source": [
    "### Hyperparameter tuning"
   ]
  },
  {
   "cell_type": "code",
   "execution_count": 16,
   "id": "3b0ca2c9",
   "metadata": {},
   "outputs": [
    {
     "name": "stdout",
     "output_type": "stream",
     "text": [
      "Search iteration: 1\n",
      "Testing config: {'learning_rate': 0.5, 'batch_size': 8}\n",
      "Loss: 256.753868899786\n",
      "Search iteration: 2\n",
      "Testing config: {'learning_rate': 0.5, 'batch_size': 16}\n",
      "Loss: 528.4602997519781\n",
      "Search iteration: 3\n",
      "Testing config: {'learning_rate': 0.5, 'batch_size': 32}\n",
      "Loss: 440.5060191553119\n",
      "Search iteration: 4\n",
      "Testing config: {'learning_rate': 0.5, 'batch_size': 64}\n",
      "Loss: 290.4493206068572\n",
      "Search iteration: 5\n",
      "Testing config: {'learning_rate': 0.5, 'batch_size': 128}\n",
      "Loss: 259.86738817097813\n",
      "Search iteration: 6\n",
      "Testing config: {'learning_rate': 0.5, 'batch_size': 256}\n",
      "Loss: 382.63223821665173\n",
      "Search iteration: 7\n",
      "Testing config: {'learning_rate': 0.1, 'batch_size': 8}\n",
      "Loss: 173.81850707652387\n",
      "Search iteration: 8\n",
      "Testing config: {'learning_rate': 0.1, 'batch_size': 16}\n",
      "Loss: 175.68982821518594\n",
      "Search iteration: 9\n",
      "Testing config: {'learning_rate': 0.1, 'batch_size': 32}\n",
      "Loss: 174.68118544629473\n",
      "Search iteration: 10\n",
      "Testing config: {'learning_rate': 0.1, 'batch_size': 64}\n",
      "Loss: 176.16514820662388\n",
      "Search iteration: 11\n",
      "Testing config: {'learning_rate': 0.1, 'batch_size': 128}\n",
      "Loss: 173.85636936694542\n",
      "Search iteration: 12\n",
      "Testing config: {'learning_rate': 0.1, 'batch_size': 256}\n",
      "Loss: 174.88412933631187\n",
      "Search iteration: 13\n",
      "Testing config: {'learning_rate': 0.05, 'batch_size': 8}\n",
      "Loss: 179.56767358713952\n",
      "Search iteration: 14\n",
      "Testing config: {'learning_rate': 0.05, 'batch_size': 16}\n",
      "Loss: 175.38273614131091\n",
      "Search iteration: 15\n",
      "Testing config: {'learning_rate': 0.05, 'batch_size': 32}\n",
      "Loss: 173.56752548511764\n",
      "Search iteration: 16\n",
      "Testing config: {'learning_rate': 0.05, 'batch_size': 64}\n",
      "Loss: 173.30164540579574\n",
      "Search iteration: 17\n",
      "Testing config: {'learning_rate': 0.05, 'batch_size': 128}\n",
      "Loss: 177.30286209411724\n",
      "Search iteration: 18\n",
      "Testing config: {'learning_rate': 0.05, 'batch_size': 256}\n",
      "Loss: 247.66080147170095\n",
      "Search iteration: 19\n",
      "Testing config: {'learning_rate': 0.01, 'batch_size': 8}\n",
      "Loss: 174.21950649298395\n",
      "Search iteration: 20\n",
      "Testing config: {'learning_rate': 0.01, 'batch_size': 16}\n",
      "Loss: 174.88894911988666\n",
      "Search iteration: 21\n",
      "Testing config: {'learning_rate': 0.01, 'batch_size': 32}\n",
      "Loss: 187.59918137280286\n",
      "Search iteration: 22\n",
      "Testing config: {'learning_rate': 0.01, 'batch_size': 64}\n",
      "Loss: 192.29278935152723\n",
      "Search iteration: 23\n",
      "Testing config: {'learning_rate': 0.01, 'batch_size': 128}\n",
      "Loss: 461.0408659306101\n",
      "Search iteration: 24\n",
      "Testing config: {'learning_rate': 0.01, 'batch_size': 256}\n",
      "Loss: 584.1465973728592\n",
      "Search iteration: 25\n",
      "Testing config: {'learning_rate': 0.005, 'batch_size': 8}\n",
      "Loss: 173.6229998273594\n",
      "Search iteration: 26\n",
      "Testing config: {'learning_rate': 0.005, 'batch_size': 16}\n",
      "Loss: 177.25337118798018\n",
      "Search iteration: 27\n",
      "Testing config: {'learning_rate': 0.005, 'batch_size': 32}\n",
      "Loss: 189.06986797730073\n",
      "Search iteration: 28\n",
      "Testing config: {'learning_rate': 0.005, 'batch_size': 64}\n",
      "Loss: 273.5308611254195\n",
      "Search iteration: 29\n",
      "Testing config: {'learning_rate': 0.005, 'batch_size': 128}\n",
      "Loss: 231.8551251808431\n",
      "Search iteration: 30\n",
      "Testing config: {'learning_rate': 0.005, 'batch_size': 256}\n",
      "Loss: 2365.5464993245837\n",
      "Search iteration: 31\n",
      "Testing config: {'learning_rate': 0.001, 'batch_size': 8}\n",
      "Loss: 177.8627822343246\n",
      "Search iteration: 32\n",
      "Testing config: {'learning_rate': 0.001, 'batch_size': 16}\n",
      "Loss: 193.79759112523664\n",
      "Search iteration: 33\n",
      "Testing config: {'learning_rate': 0.001, 'batch_size': 32}\n",
      "Loss: 191.34452247936287\n",
      "Search iteration: 34\n",
      "Testing config: {'learning_rate': 0.001, 'batch_size': 64}\n",
      "Loss: 792.8972458182967\n",
      "Search iteration: 35\n",
      "Testing config: {'learning_rate': 0.001, 'batch_size': 128}\n",
      "Loss: 1948.1322950672266\n",
      "Search iteration: 36\n",
      "Testing config: {'learning_rate': 0.001, 'batch_size': 256}\n",
      "Loss: 2458.490916334779\n"
     ]
    }
   ],
   "source": [
    "\n",
    "# Grid Search\n",
    "hp_grid = {\n",
    "    \"learning_rate\": [5e-1, 1e-1, 5e-2, 1e-2, 5e-3, 1e-3],\n",
    "    \"batch_size\": [8, 16, 32, 64, 128, 256]\n",
    "}\n",
    "\n",
    "def train_and_evaluate(hp_config):\n",
    "    inputs, target, _, loss = build_regression_model(n_inputs, HIDDEN_LAYERS_NUM, HIDDEN_NEURONS_NUM)\n",
    "    train_model(inputs_train, inputs_test, targets_train, targets_test, EPOCHS, hp_config[\"batch_size\"], hp_config[\"learning_rate\"], inputs, target, loss, EARLY_STOPPING_PATIENCE, EARLY_STOPPING_DELTA, log=False)\n",
    "    average_loss = evaluate_model(inputs_test, targets_test, inputs, target, loss)\n",
    "    return average_loss\n",
    "\n",
    "best_hp_config = start_hp_search(hp_grid, train_and_evaluate)"
   ]
  },
  {
   "cell_type": "code",
   "execution_count": 17,
   "id": "1b5e1816",
   "metadata": {},
   "outputs": [
    {
     "name": "stdout",
     "output_type": "stream",
     "text": [
      "Best batch size config: 64\n",
      "Best learning rate: 0.05\n"
     ]
    }
   ],
   "source": [
    "batch_size = best_hp_config[\"batch_size\"]\n",
    "print(f\"Best batch size config: {batch_size}\")\n",
    "\n",
    "learning_rate = best_hp_config[\"learning_rate\"]\n",
    "print(f\"Best learning rate: {learning_rate}\")"
   ]
  },
  {
   "cell_type": "markdown",
   "id": "4dd2e346",
   "metadata": {},
   "source": [
    "### Training"
   ]
  },
  {
   "cell_type": "code",
   "execution_count": 18,
   "id": "e72eec4b",
   "metadata": {},
   "outputs": [
    {
     "name": "stdout",
     "output_type": "stream",
     "text": [
      "Epoch 0: loss=22114.72656792045, test_loss=inf\n",
      "Epoch 1: loss=3266.123618680239, test_loss=5439.93119579305\n",
      "Epoch 2: loss=1941.813766018566, test_loss=2365.3392077371145\n",
      "Epoch 3: loss=1637.4694288540916, test_loss=1739.434664497098\n",
      "Epoch 4: loss=1612.3054798347432, test_loss=1509.8818802664887\n",
      "Epoch 5: loss=1370.9194591808275, test_loss=1249.5985971414593\n",
      "Epoch 6: loss=1302.7533378165438, test_loss=1134.425120558547\n",
      "Epoch 7: loss=1269.8386213907156, test_loss=1373.003572484143\n",
      "Epoch 8: loss=1066.828535834132, test_loss=1054.4940667034302\n",
      "Epoch 9: loss=895.5423425860048, test_loss=871.7769222010713\n",
      "Epoch 10: loss=896.31033435134, test_loss=875.2336781197798\n",
      "Epoch 11: loss=727.5509512850506, test_loss=605.2566882423719\n",
      "Epoch 12: loss=620.7234169961117, test_loss=554.5256747841319\n",
      "Epoch 13: loss=611.9497309892558, test_loss=499.4574946139107\n",
      "Epoch 14: loss=527.2008974676587, test_loss=417.0175539860928\n",
      "Epoch 15: loss=471.80415852230215, test_loss=425.7162382650092\n",
      "Epoch 16: loss=469.3337758681895, test_loss=375.1225834647192\n",
      "Epoch 17: loss=457.747786753109, test_loss=424.42754988389856\n",
      "Epoch 18: loss=485.0405809969915, test_loss=364.39915977942786\n",
      "Epoch 19: loss=428.34896320051485, test_loss=342.7989321094867\n",
      "Epoch 20: loss=443.6306146585447, test_loss=379.51225237563597\n",
      "Epoch 21: loss=396.3139552838758, test_loss=328.84398188262264\n",
      "Epoch 22: loss=385.1601018754304, test_loss=330.6127971180865\n",
      "Epoch 23: loss=356.46258047845527, test_loss=329.0177836609569\n",
      "Epoch 24: loss=346.24465566841855, test_loss=266.5417870273803\n",
      "Epoch 25: loss=343.85060211544504, test_loss=268.6142570032508\n",
      "Epoch 26: loss=343.0952017141869, test_loss=237.75754472259862\n",
      "Epoch 27: loss=314.6624840017849, test_loss=228.12259100744637\n",
      "Epoch 28: loss=314.5903628338547, test_loss=217.44051506348225\n",
      "Epoch 29: loss=278.6701075803191, test_loss=251.10817586757682\n",
      "Epoch 30: loss=281.39642254409966, test_loss=236.4321423763047\n",
      "Epoch 31: loss=311.27951847052344, test_loss=200.956754463155\n",
      "Epoch 32: loss=280.9643523744096, test_loss=292.1837155679918\n",
      "Epoch 33: loss=253.9651840234544, test_loss=189.08313532357138\n",
      "Epoch 34: loss=256.941627174428, test_loss=185.32859273615207\n",
      "Epoch 35: loss=256.80371340555115, test_loss=187.19239533898826\n",
      "Epoch 36: loss=274.68139336828784, test_loss=182.69873550414044\n",
      "Epoch 37: loss=256.86610177690255, test_loss=189.0120205549512\n",
      "Epoch 38: loss=262.70140600408314, test_loss=211.10294353327302\n",
      "Epoch 39: loss=298.4549308053741, test_loss=176.2503874513581\n",
      "Epoch 40: loss=256.8906127722286, test_loss=178.26961340171925\n",
      "Epoch 41: loss=254.11188371663545, test_loss=191.3558030873763\n",
      "Epoch 42: loss=255.6210442303321, test_loss=177.06265618351944\n",
      "Epoch 43: loss=265.55581507032446, test_loss=180.1206834587677\n",
      "Epoch 44: loss=265.66891656074876, test_loss=225.53124088263408\n",
      "Epoch 45: loss=272.98119393141303, test_loss=180.53936896908695\n",
      "Epoch 46: loss=326.28829600339196, test_loss=276.60724004520483\n",
      "Epoch 47: loss=313.85018903675933, test_loss=256.70857768627224\n",
      "Epoch 48: loss=282.9958407716682, test_loss=215.63428584686991\n",
      "Best epoch: 38\n",
      "Best test loss: 176.2503874513581\n"
     ]
    }
   ],
   "source": [
    "inputs, target, output, loss = build_regression_model(n_inputs, HIDDEN_LAYERS_NUM, HIDDEN_NEURONS_NUM)\n",
    "\n",
    "history = train_model(inputs_train, inputs_test, targets_train, targets_test, EPOCHS, batch_size, learning_rate, inputs, target, loss, EARLY_STOPPING_PATIENCE, EARLY_STOPPING_DELTA)"
   ]
  },
  {
   "cell_type": "code",
   "execution_count": 19,
   "id": "c3fee4d6",
   "metadata": {},
   "outputs": [
    {
     "data": {
      "text/plain": [
       "<matplotlib.legend.Legend at 0x7b07917ed6a0>"
      ]
     },
     "execution_count": 19,
     "metadata": {},
     "output_type": "execute_result"
    },
    {
     "data": {
      "image/png": "[encoded data removed]",
      "text/plain": [
       "<Figure size 640x480 with 1 Axes>"
      ]
     },
     "metadata": {},
     "output_type": "display_data"
    }
   ],
   "source": [
    "plt.plot(history[\"train_loss\"], label=\"train_loss\")\n",
    "plt.plot(history[\"test_loss\"], label=\"test_loss\")\n",
    "plt.xlabel(\"Epoch\")\n",
    "plt.ylabel(\"Loss\")\n",
    "plt.ylim(0, 2000)\n",
    "plt.legend(loc=\"lower right\")"
   ]
  },
  {
   "cell_type": "code",
   "execution_count": 20,
   "id": "6ea33d31",
   "metadata": {},
   "outputs": [
    {
     "data": {
      "image/svg+xml": [
       "<?xml version=\"1.0\" encoding=\"UTF-8\" standalone=\"no\"?>\n",
       "<!DOCTYPE svg PUBLIC \"-//W3C//DTD SVG 1.1//EN\"\n",
       " \"http://www.w3.org/Graphics/SVG/1.1/DTD/svg11.dtd\">\n",
       "<!-- Generated by graphviz version 2.50.0 (0)\n",
       " -->\n",
       "<!-- Pages: 1 -->\n",
       "<svg width=\"2138pt\" height=\"211pt\"\n",
       " viewBox=\"0.00 0.00 2137.79 211.00\" xmlns=\"http://www.w3.org/2000/svg\" xmlns:xlink=\"http://www.w3.org/1999/xlink\">\n",
       "<g id=\"graph0\" class=\"graph\" transform=\"scale(1 1) rotate(0) translate(4 207)\">\n",
       "<polygon fill=\"white\" stroke=\"transparent\" points=\"-4,4 -4,-207 2133.79,-207 2133.79,4 -4,4\"/>\n",
       "<!-- 135272437803648 -->\n",
       "<g id=\"node1\" class=\"node\">\n",
       "<title>135272437803648</title>\n",
       "<polygon fill=\"none\" stroke=\"black\" points=\"1,-166.5 1,-202.5 306,-202.5 306,-166.5 1,-166.5\"/>\n",
       "<text text-anchor=\"middle\" x=\"32.5\" y=\"-180.8\" font-family=\"Times,serif\" font-size=\"14.00\">input0</text>\n",
       "<polyline fill=\"none\" stroke=\"black\" points=\"64,-166.5 64,-202.5 \"/>\n",
       "<text text-anchor=\"middle\" x=\"115\" y=\"-180.8\" font-family=\"Times,serif\" font-size=\"14.00\">data 0.3110</text>\n",
       "<polyline fill=\"none\" stroke=\"black\" points=\"166,-166.5 166,-202.5 \"/>\n",
       "<text text-anchor=\"middle\" x=\"236\" y=\"-180.8\" font-family=\"Times,serif\" font-size=\"14.00\">grad 12443.0182</text>\n",
       "</g>\n",
       "<!-- 135272438237328* -->\n",
       "<g id=\"node3\" class=\"node\">\n",
       "<title>135272438237328*</title>\n",
       "<ellipse fill=\"none\" stroke=\"black\" cx=\"370\" cy=\"-129.5\" rx=\"27\" ry=\"18\"/>\n",
       "<text text-anchor=\"middle\" x=\"370\" y=\"-125.8\" font-family=\"Times,serif\" font-size=\"14.00\">*</text>\n",
       "</g>\n",
       "<!-- 135272437803648&#45;&gt;135272438237328* -->\n",
       "<g id=\"edge13\" class=\"edge\">\n",
       "<title>135272437803648&#45;&gt;135272438237328*</title>\n",
       "<path fill=\"none\" stroke=\"black\" d=\"M273.41,-166.43C284.86,-163.8 296.21,-160.83 307,-157.5 317.77,-154.17 329.14,-149.43 339.15,-144.79\"/>\n",
       "<polygon fill=\"black\" stroke=\"black\" points=\"340.76,-147.9 348.27,-140.43 337.74,-141.59 340.76,-147.9\"/>\n",
       "</g>\n",
       "<!-- 135272438237328 -->\n",
       "<g id=\"node2\" class=\"node\">\n",
       "<title>135272438237328</title>\n",
       "<polygon fill=\"none\" stroke=\"black\" points=\"433,-111.5 433,-147.5 793,-147.5 793,-111.5 433,-111.5\"/>\n",
       "<text text-anchor=\"middle\" x=\"501\" y=\"-125.8\" font-family=\"Times,serif\" font-size=\"14.00\">weighted_input0</text>\n",
       "<polyline fill=\"none\" stroke=\"black\" points=\"569,-111.5 569,-147.5 \"/>\n",
       "<text text-anchor=\"middle\" x=\"624.5\" y=\"-125.8\" font-family=\"Times,serif\" font-size=\"14.00\">data 72.2198</text>\n",
       "<polyline fill=\"none\" stroke=\"black\" points=\"680,-111.5 680,-147.5 \"/>\n",
       "<text text-anchor=\"middle\" x=\"736.5\" y=\"-125.8\" font-family=\"Times,serif\" font-size=\"14.00\">grad 53.1487</text>\n",
       "</g>\n",
       "<!-- 135272435669360+ -->\n",
       "<g id=\"node10\" class=\"node\">\n",
       "<title>135272435669360+</title>\n",
       "<ellipse fill=\"none\" stroke=\"black\" cx=\"856\" cy=\"-101.5\" rx=\"27\" ry=\"18\"/>\n",
       "<text text-anchor=\"middle\" x=\"856\" y=\"-97.8\" font-family=\"Times,serif\" font-size=\"14.00\">+</text>\n",
       "</g>\n",
       "<!-- 135272438237328&#45;&gt;135272435669360+ -->\n",
       "<g id=\"edge7\" class=\"edge\">\n",
       "<title>135272438237328&#45;&gt;135272435669360+</title>\n",
       "<path fill=\"none\" stroke=\"black\" d=\"M769.01,-111.49C787.51,-109.34 804.82,-107.33 818.99,-105.68\"/>\n",
       "<polygon fill=\"black\" stroke=\"black\" points=\"819.65,-109.13 829.18,-104.5 818.85,-102.18 819.65,-109.13\"/>\n",
       "</g>\n",
       "<!-- 135272438237328*&#45;&gt;135272438237328 -->\n",
       "<g id=\"edge1\" class=\"edge\">\n",
       "<title>135272438237328*&#45;&gt;135272438237328</title>\n",
       "<path fill=\"none\" stroke=\"black\" d=\"M397.25,-129.5C404.58,-129.5 413.16,-129.5 422.58,-129.5\"/>\n",
       "<polygon fill=\"black\" stroke=\"black\" points=\"422.68,-133 432.68,-129.5 422.68,-126 422.68,-133\"/>\n",
       "</g>\n",
       "<!-- 135272435390112 -->\n",
       "<g id=\"node4\" class=\"node\">\n",
       "<title>135272435390112</title>\n",
       "<polygon fill=\"none\" stroke=\"black\" points=\"5.5,-56.5 5.5,-92.5 301.5,-92.5 301.5,-56.5 5.5,-56.5\"/>\n",
       "<text text-anchor=\"middle\" x=\"37\" y=\"-70.8\" font-family=\"Times,serif\" font-size=\"14.00\">input1</text>\n",
       "<polyline fill=\"none\" stroke=\"black\" points=\"68.5,-56.5 68.5,-92.5 \"/>\n",
       "<text text-anchor=\"middle\" x=\"119.5\" y=\"-70.8\" font-family=\"Times,serif\" font-size=\"14.00\">data 0.0000</text>\n",
       "<polyline fill=\"none\" stroke=\"black\" points=\"170.5,-56.5 170.5,-92.5 \"/>\n",
       "<text text-anchor=\"middle\" x=\"236\" y=\"-70.8\" font-family=\"Times,serif\" font-size=\"14.00\">grad 2411.6858</text>\n",
       "</g>\n",
       "<!-- 135272435672048* -->\n",
       "<g id=\"node16\" class=\"node\">\n",
       "<title>135272435672048*</title>\n",
       "<ellipse fill=\"none\" stroke=\"black\" cx=\"370\" cy=\"-74.5\" rx=\"27\" ry=\"18\"/>\n",
       "<text text-anchor=\"middle\" x=\"370\" y=\"-70.8\" font-family=\"Times,serif\" font-size=\"14.00\">*</text>\n",
       "</g>\n",
       "<!-- 135272435390112&#45;&gt;135272435672048* -->\n",
       "<g id=\"edge12\" class=\"edge\">\n",
       "<title>135272435390112&#45;&gt;135272435672048*</title>\n",
       "<path fill=\"none\" stroke=\"black\" d=\"M301.72,-74.5C312.86,-74.5 323.33,-74.5 332.54,-74.5\"/>\n",
       "<polygon fill=\"black\" stroke=\"black\" points=\"332.74,-78 342.73,-74.5 332.73,-71 332.74,-78\"/>\n",
       "</g>\n",
       "<!-- 135272437800432 -->\n",
       "<g id=\"node5\" class=\"node\">\n",
       "<title>135272437800432</title>\n",
       "<polygon fill=\"none\" stroke=\"black\" points=\"978,-28.5 978,-64.5 1248,-64.5 1248,-28.5 978,-28.5\"/>\n",
       "<text text-anchor=\"middle\" x=\"1001\" y=\"-42.8\" font-family=\"Times,serif\" font-size=\"14.00\">bias</text>\n",
       "<polyline fill=\"none\" stroke=\"black\" points=\"1024,-28.5 1024,-64.5 \"/>\n",
       "<text text-anchor=\"middle\" x=\"1079.5\" y=\"-42.8\" font-family=\"Times,serif\" font-size=\"14.00\">data 89.9856</text>\n",
       "<polyline fill=\"none\" stroke=\"black\" points=\"1135,-28.5 1135,-64.5 \"/>\n",
       "<text text-anchor=\"middle\" x=\"1191.5\" y=\"-42.8\" font-family=\"Times,serif\" font-size=\"14.00\">grad 53.1487</text>\n",
       "</g>\n",
       "<!-- 135272435671424+ -->\n",
       "<g id=\"node12\" class=\"node\">\n",
       "<title>135272435671424+</title>\n",
       "<ellipse fill=\"none\" stroke=\"black\" cx=\"1370\" cy=\"-73.5\" rx=\"27\" ry=\"18\"/>\n",
       "<text text-anchor=\"middle\" x=\"1370\" y=\"-69.8\" font-family=\"Times,serif\" font-size=\"14.00\">+</text>\n",
       "</g>\n",
       "<!-- 135272437800432&#45;&gt;135272435671424+ -->\n",
       "<g id=\"edge10\" class=\"edge\">\n",
       "<title>135272437800432&#45;&gt;135272435671424+</title>\n",
       "<path fill=\"none\" stroke=\"black\" d=\"M1248.22,-60.71C1279.5,-64.02 1310.24,-67.28 1332.88,-69.68\"/>\n",
       "<polygon fill=\"black\" stroke=\"black\" points=\"1332.69,-73.17 1343,-70.75 1333.42,-66.21 1332.69,-73.17\"/>\n",
       "</g>\n",
       "<!-- 135272435670800 -->\n",
       "<g id=\"node6\" class=\"node\">\n",
       "<title>135272435670800</title>\n",
       "<polygon fill=\"none\" stroke=\"black\" points=\"1861.79,-27.5 1861.79,-63.5 2129.79,-63.5 2129.79,-27.5 1861.79,-27.5\"/>\n",
       "<text text-anchor=\"middle\" x=\"1883.79\" y=\"-41.8\" font-family=\"Times,serif\" font-size=\"14.00\">loss</text>\n",
       "<polyline fill=\"none\" stroke=\"black\" points=\"1905.79,-27.5 1905.79,-63.5 \"/>\n",
       "<text text-anchor=\"middle\" x=\"1965.79\" y=\"-41.8\" font-family=\"Times,serif\" font-size=\"14.00\">data 151.9879</text>\n",
       "<polyline fill=\"none\" stroke=\"black\" points=\"2025.79,-27.5 2025.79,-63.5 \"/>\n",
       "<text text-anchor=\"middle\" x=\"2077.79\" y=\"-41.8\" font-family=\"Times,serif\" font-size=\"14.00\">grad 1.0000</text>\n",
       "</g>\n",
       "<!-- 135272435670800mse -->\n",
       "<g id=\"node7\" class=\"node\">\n",
       "<title>135272435670800mse</title>\n",
       "<ellipse fill=\"none\" stroke=\"black\" cx=\"1795.9\" cy=\"-45.5\" rx=\"29.8\" ry=\"18\"/>\n",
       "<text text-anchor=\"middle\" x=\"1795.9\" y=\"-41.8\" font-family=\"Times,serif\" font-size=\"14.00\">mse</text>\n",
       "</g>\n",
       "<!-- 135272435670800mse&#45;&gt;135272435670800 -->\n",
       "<g id=\"edge2\" class=\"edge\">\n",
       "<title>135272435670800mse&#45;&gt;135272435670800</title>\n",
       "<path fill=\"none\" stroke=\"black\" d=\"M1826.1,-45.5C1833.6,-45.5 1842.19,-45.5 1851.43,-45.5\"/>\n",
       "<polygon fill=\"black\" stroke=\"black\" points=\"1851.69,-49 1861.69,-45.5 1851.69,-42 1851.69,-49\"/>\n",
       "</g>\n",
       "<!-- 135272435668832 -->\n",
       "<g id=\"node8\" class=\"node\">\n",
       "<title>135272435668832</title>\n",
       "<polygon fill=\"none\" stroke=\"black\" points=\"1439,-0.5 1439,-36.5 1724,-36.5 1724,-0.5 1439,-0.5\"/>\n",
       "<text text-anchor=\"middle\" x=\"1469.5\" y=\"-14.8\" font-family=\"Times,serif\" font-size=\"14.00\">target</text>\n",
       "<polyline fill=\"none\" stroke=\"black\" points=\"1500,-0.5 1500,-36.5 \"/>\n",
       "<text text-anchor=\"middle\" x=\"1560\" y=\"-14.8\" font-family=\"Times,serif\" font-size=\"14.00\">data 152.0000</text>\n",
       "<polyline fill=\"none\" stroke=\"black\" points=\"1620,-0.5 1620,-36.5 \"/>\n",
       "<text text-anchor=\"middle\" x=\"1672\" y=\"-14.8\" font-family=\"Times,serif\" font-size=\"14.00\">grad 0.0000</text>\n",
       "</g>\n",
       "<!-- 135272435668832&#45;&gt;135272435670800mse -->\n",
       "<g id=\"edge6\" class=\"edge\">\n",
       "<title>135272435668832&#45;&gt;135272435670800mse</title>\n",
       "<path fill=\"none\" stroke=\"black\" d=\"M1724.17,-36.51C1735.8,-37.99 1746.78,-39.38 1756.47,-40.61\"/>\n",
       "<polygon fill=\"black\" stroke=\"black\" points=\"1756.08,-44.09 1766.45,-41.88 1756.97,-37.15 1756.08,-44.09\"/>\n",
       "</g>\n",
       "<!-- 135272435669360 -->\n",
       "<g id=\"node9\" class=\"node\">\n",
       "<title>135272435669360</title>\n",
       "<polygon fill=\"none\" stroke=\"black\" points=\"919,-83.5 919,-119.5 1307,-119.5 1307,-83.5 919,-83.5\"/>\n",
       "<text text-anchor=\"middle\" x=\"1001\" y=\"-97.8\" font-family=\"Times,serif\" font-size=\"14.00\">weighted_input_sum</text>\n",
       "<polyline fill=\"none\" stroke=\"black\" points=\"1083,-83.5 1083,-119.5 \"/>\n",
       "<text text-anchor=\"middle\" x=\"1138.5\" y=\"-97.8\" font-family=\"Times,serif\" font-size=\"14.00\">data 72.2198</text>\n",
       "<polyline fill=\"none\" stroke=\"black\" points=\"1194,-83.5 1194,-119.5 \"/>\n",
       "<text text-anchor=\"middle\" x=\"1250.5\" y=\"-97.8\" font-family=\"Times,serif\" font-size=\"14.00\">grad 53.1487</text>\n",
       "</g>\n",
       "<!-- 135272435669360&#45;&gt;135272435671424+ -->\n",
       "<g id=\"edge11\" class=\"edge\">\n",
       "<title>135272435669360&#45;&gt;135272435671424+</title>\n",
       "<path fill=\"none\" stroke=\"black\" d=\"M1278.02,-83.49C1298.6,-81.23 1317.79,-79.12 1333.2,-77.43\"/>\n",
       "<polygon fill=\"black\" stroke=\"black\" points=\"1333.67,-80.9 1343.23,-76.33 1332.9,-73.94 1333.67,-80.9\"/>\n",
       "</g>\n",
       "<!-- 135272435669360+&#45;&gt;135272435669360 -->\n",
       "<g id=\"edge3\" class=\"edge\">\n",
       "<title>135272435669360+&#45;&gt;135272435669360</title>\n",
       "<path fill=\"none\" stroke=\"black\" d=\"M883.33,-101.5C890.65,-101.5 899.21,-101.5 908.64,-101.5\"/>\n",
       "<polygon fill=\"black\" stroke=\"black\" points=\"908.77,-105 918.77,-101.5 908.77,-98 908.77,-105\"/>\n",
       "</g>\n",
       "<!-- 135272435671424 -->\n",
       "<g id=\"node11\" class=\"node\">\n",
       "<title>135272435671424</title>\n",
       "<polygon fill=\"none\" stroke=\"black\" points=\"1433,-55.5 1433,-91.5 1730,-91.5 1730,-55.5 1433,-55.5\"/>\n",
       "<text text-anchor=\"middle\" x=\"1465\" y=\"-69.8\" font-family=\"Times,serif\" font-size=\"14.00\">output</text>\n",
       "<polyline fill=\"none\" stroke=\"black\" points=\"1497,-55.5 1497,-91.5 \"/>\n",
       "<text text-anchor=\"middle\" x=\"1557\" y=\"-69.8\" font-family=\"Times,serif\" font-size=\"14.00\">data 164.3283</text>\n",
       "<polyline fill=\"none\" stroke=\"black\" points=\"1617,-55.5 1617,-91.5 \"/>\n",
       "<text text-anchor=\"middle\" x=\"1673.5\" y=\"-69.8\" font-family=\"Times,serif\" font-size=\"14.00\">grad 53.1487</text>\n",
       "</g>\n",
       "<!-- 135272435671424&#45;&gt;135272435670800mse -->\n",
       "<g id=\"edge14\" class=\"edge\">\n",
       "<title>135272435671424&#45;&gt;135272435670800mse</title>\n",
       "<path fill=\"none\" stroke=\"black\" d=\"M1719.12,-55.49C1732.54,-53.72 1745.26,-52.04 1756.31,-50.59\"/>\n",
       "<polygon fill=\"black\" stroke=\"black\" points=\"1756.9,-54.04 1766.35,-49.26 1755.98,-47.1 1756.9,-54.04\"/>\n",
       "</g>\n",
       "<!-- 135272435671424+&#45;&gt;135272435671424 -->\n",
       "<g id=\"edge4\" class=\"edge\">\n",
       "<title>135272435671424+&#45;&gt;135272435671424</title>\n",
       "<path fill=\"none\" stroke=\"black\" d=\"M1397.11,-73.5C1404.52,-73.5 1413.16,-73.5 1422.59,-73.5\"/>\n",
       "<polygon fill=\"black\" stroke=\"black\" points=\"1422.68,-77 1432.68,-73.5 1422.68,-70 1422.68,-77\"/>\n",
       "</g>\n",
       "<!-- 135272435665328 -->\n",
       "<g id=\"node13\" class=\"node\">\n",
       "<title>135272435665328</title>\n",
       "<polygon fill=\"none\" stroke=\"black\" points=\"4.5,-1.5 4.5,-37.5 302.5,-37.5 302.5,-1.5 4.5,-1.5\"/>\n",
       "<text text-anchor=\"middle\" x=\"41.5\" y=\"-15.8\" font-family=\"Times,serif\" font-size=\"14.00\">weight1</text>\n",
       "<polyline fill=\"none\" stroke=\"black\" points=\"78.5,-1.5 78.5,-37.5 \"/>\n",
       "<text text-anchor=\"middle\" x=\"134\" y=\"-15.8\" font-family=\"Times,serif\" font-size=\"14.00\">data 46.0021</text>\n",
       "<polyline fill=\"none\" stroke=\"black\" points=\"189.5,-1.5 189.5,-37.5 \"/>\n",
       "<text text-anchor=\"middle\" x=\"246\" y=\"-15.8\" font-family=\"Times,serif\" font-size=\"14.00\">grad 53.1487</text>\n",
       "</g>\n",
       "<!-- 135272435665328&#45;&gt;135272435672048* -->\n",
       "<g id=\"edge8\" class=\"edge\">\n",
       "<title>135272435665328&#45;&gt;135272435672048*</title>\n",
       "<path fill=\"none\" stroke=\"black\" d=\"M268.86,-37.54C281.83,-40.46 294.77,-43.77 307,-47.5 317.53,-50.71 328.66,-55.19 338.54,-59.58\"/>\n",
       "<polygon fill=\"black\" stroke=\"black\" points=\"337.39,-62.9 347.94,-63.89 340.31,-56.54 337.39,-62.9\"/>\n",
       "</g>\n",
       "<!-- 135272435389296 -->\n",
       "<g id=\"node14\" class=\"node\">\n",
       "<title>135272435389296</title>\n",
       "<polygon fill=\"none\" stroke=\"black\" points=\"0,-111.5 0,-147.5 307,-147.5 307,-111.5 0,-111.5\"/>\n",
       "<text text-anchor=\"middle\" x=\"37\" y=\"-125.8\" font-family=\"Times,serif\" font-size=\"14.00\">weight0</text>\n",
       "<polyline fill=\"none\" stroke=\"black\" points=\"74,-111.5 74,-147.5 \"/>\n",
       "<text text-anchor=\"middle\" x=\"134\" y=\"-125.8\" font-family=\"Times,serif\" font-size=\"14.00\">data 228.5469</text>\n",
       "<polyline fill=\"none\" stroke=\"black\" points=\"194,-111.5 194,-147.5 \"/>\n",
       "<text text-anchor=\"middle\" x=\"250.5\" y=\"-125.8\" font-family=\"Times,serif\" font-size=\"14.00\">grad 37.3289</text>\n",
       "</g>\n",
       "<!-- 135272435389296&#45;&gt;135272438237328* -->\n",
       "<g id=\"edge15\" class=\"edge\">\n",
       "<title>135272435389296&#45;&gt;135272438237328*</title>\n",
       "<path fill=\"none\" stroke=\"black\" d=\"M307.25,-129.5C316.5,-129.5 325.2,-129.5 332.98,-129.5\"/>\n",
       "<polygon fill=\"black\" stroke=\"black\" points=\"332.99,-133 342.99,-129.5 332.99,-126 332.99,-133\"/>\n",
       "</g>\n",
       "<!-- 135272435672048 -->\n",
       "<g id=\"node15\" class=\"node\">\n",
       "<title>135272435672048</title>\n",
       "<polygon fill=\"none\" stroke=\"black\" points=\"437.5,-56.5 437.5,-92.5 788.5,-92.5 788.5,-56.5 437.5,-56.5\"/>\n",
       "<text text-anchor=\"middle\" x=\"505.5\" y=\"-70.8\" font-family=\"Times,serif\" font-size=\"14.00\">weighted_input1</text>\n",
       "<polyline fill=\"none\" stroke=\"black\" points=\"573.5,-56.5 573.5,-92.5 \"/>\n",
       "<text text-anchor=\"middle\" x=\"624.5\" y=\"-70.8\" font-family=\"Times,serif\" font-size=\"14.00\">data 0.0000</text>\n",
       "<polyline fill=\"none\" stroke=\"black\" points=\"675.5,-56.5 675.5,-92.5 \"/>\n",
       "<text text-anchor=\"middle\" x=\"732\" y=\"-70.8\" font-family=\"Times,serif\" font-size=\"14.00\">grad 53.1487</text>\n",
       "</g>\n",
       "<!-- 135272435672048&#45;&gt;135272435669360+ -->\n",
       "<g id=\"edge9\" class=\"edge\">\n",
       "<title>135272435672048&#45;&gt;135272435669360+</title>\n",
       "<path fill=\"none\" stroke=\"black\" d=\"M774.75,-92.51C791.07,-94.34 806.29,-96.04 818.98,-97.46\"/>\n",
       "<polygon fill=\"black\" stroke=\"black\" points=\"818.69,-100.95 829.02,-98.59 819.47,-94 818.69,-100.95\"/>\n",
       "</g>\n",
       "<!-- 135272435672048*&#45;&gt;135272435672048 -->\n",
       "<g id=\"edge5\" class=\"edge\">\n",
       "<title>135272435672048*&#45;&gt;135272435672048</title>\n",
       "<path fill=\"none\" stroke=\"black\" d=\"M397.25,-74.5C405.79,-74.5 416.01,-74.5 427.29,-74.5\"/>\n",
       "<polygon fill=\"black\" stroke=\"black\" points=\"427.45,-78 437.45,-74.5 427.45,-71 427.45,-78\"/>\n",
       "</g>\n",
       "</g>\n",
       "</svg>\n"
      ],
      "text/plain": [
       "<graphviz.graphs.Digraph at 0x7b0791823b30>"
      ]
     },
     "execution_count": 20,
     "metadata": {},
     "output_type": "execute_result"
    }
   ],
   "source": [
    "draw_dot(loss)"
   ]
  },
  {
   "cell_type": "markdown",
   "id": "f3cb34e5",
   "metadata": {},
   "source": [
    "## Test solution"
   ]
  },
  {
   "cell_type": "code",
   "execution_count": 21,
   "id": "a4aa7897",
   "metadata": {},
   "outputs": [],
   "source": [
    "average_loss = evaluate_model(inputs_test, targets_test, inputs, target, loss)"
   ]
  },
  {
   "cell_type": "code",
   "execution_count": 22,
   "id": "146c9bee",
   "metadata": {},
   "outputs": [
    {
     "name": "stdout",
     "output_type": "stream",
     "text": [
      "RMSE: 13.275932639606083\n",
      "Mean of targets: 216.425\n",
      "Error as percentage of mean: 6.134195513275306\n"
     ]
    }
   ],
   "source": [
    "rmse = np.sqrt(average_loss)\n",
    "mean_target = np.mean(targets)\n",
    "print(\"RMSE:\", rmse)\n",
    "print(\"Mean of targets:\", mean_target)\n",
    "print(\"Error as percentage of mean:\", rmse / mean_target * 100)"
   ]
  }
 ],
 "metadata": {
  "kernelspec": {
   "display_name": "base",
   "language": "python",
   "name": "python3"
  },
  "language_info": {
   "codemirror_mode": {
    "name": "ipython",
    "version": 3
   },
   "file_extension": ".py",
   "mimetype": "text/x-python",
   "name": "python",
   "nbconvert_exporter": "python",
   "pygments_lexer": "ipython3",
   "version": "3.12.2"
  }
 },
 "nbformat": 4,
 "nbformat_minor": 5
}

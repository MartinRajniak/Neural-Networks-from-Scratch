{
 "cells": [
  {
   "cell_type": "markdown",
   "id": "bf439ef3",
   "metadata": {},
   "source": [
    "# Prediction Ice Cream Sales with Linear Regression\n",
    "\n"
   ]
  },
  {
   "cell_type": "markdown",
   "id": "362be688",
   "metadata": {},
   "source": [
    "Data set has 2 input features: Temperature in °C and Is Weekend flag (0/1).\n",
    "Target is called Ice Creams Sold.\n",
    "\n",
    "Neural network used can only have single input layer and single output layer without activation functions."
   ]
  },
  {
   "cell_type": "markdown",
   "id": "c77f67f7",
   "metadata": {},
   "source": [
    "## Set up environment"
   ]
  },
  {
   "cell_type": "code",
   "execution_count": 1,
   "id": "db55e1c3",
   "metadata": {},
   "outputs": [],
   "source": [
    "import sys\n",
    "import os\n",
    "\n",
    "project_root = os.path.abspath(os.path.join(os.getcwd(), '../..'))\n",
    "if project_root not in sys.path:\n",
    "    sys.path.append(project_root)\n",
    "\n",
    "from src.draw_graph import draw_dot\n",
    "from src.model.builder import build_model\n",
    "from src.model.training import train_model\n",
    "from src.model.evaluation import evaluate_model\n",
    "\n",
    "import random\n",
    "random.seed(42)\n",
    "\n",
    "import numpy as np\n",
    "np.random.seed(42) \n",
    "\n",
    "import pandas as pd\n",
    "from pandas import DataFrame\n",
    "\n",
    "from matplotlib import pyplot as plt"
   ]
  },
  {
   "cell_type": "markdown",
   "id": "fa7608d2",
   "metadata": {},
   "source": [
    "## Hyperparams"
   ]
  },
  {
   "cell_type": "code",
   "execution_count": 2,
   "id": "8050d3c5",
   "metadata": {},
   "outputs": [],
   "source": [
    "TEST_SIZE = 0.1\n",
    "\n",
    "# 1e-2 is too high for more than one neuron (exploding gradients)\n",
    "# 1e-3 makes training too erratic (jumping around minimum)\n",
    "LEARNING_RATE = 1e-4\n",
    "BATCH_SIZE = 8\n",
    "\n",
    "EPOCHS = 1000\n",
    "\n",
    "EARLY_STOPPING_PATIENCE = 10\n",
    "EARLY_STOPPING_DELTA = 1e-3\n",
    "\n",
    "HIDDEN_LAYERS_NUM = 0\n",
    "HIDDEN_NEURONS_NUM = 0"
   ]
  },
  {
   "cell_type": "markdown",
   "id": "8ac7eee7",
   "metadata": {},
   "source": [
    "## Load data"
   ]
  },
  {
   "cell_type": "code",
   "execution_count": 3,
   "id": "a68d15bc",
   "metadata": {},
   "outputs": [
    {
     "data": {
      "text/html": [
       "<div>\n",
       "<style scoped>\n",
       "    .dataframe tbody tr th:only-of-type {\n",
       "        vertical-align: middle;\n",
       "    }\n",
       "\n",
       "    .dataframe tbody tr th {\n",
       "        vertical-align: top;\n",
       "    }\n",
       "\n",
       "    .dataframe thead th {\n",
       "        text-align: right;\n",
       "    }\n",
       "</style>\n",
       "<table border=\"1\" class=\"dataframe\">\n",
       "  <thead>\n",
       "    <tr style=\"text-align: right;\">\n",
       "      <th></th>\n",
       "      <th>Temperature</th>\n",
       "      <th>Is_Weekend</th>\n",
       "      <th>Ice_Creams_Sold</th>\n",
       "    </tr>\n",
       "  </thead>\n",
       "  <tbody>\n",
       "    <tr>\n",
       "      <th>110</th>\n",
       "      <td>18.692544</td>\n",
       "      <td>1</td>\n",
       "      <td>203</td>\n",
       "    </tr>\n",
       "    <tr>\n",
       "      <th>419</th>\n",
       "      <td>32.571236</td>\n",
       "      <td>0</td>\n",
       "      <td>275</td>\n",
       "    </tr>\n",
       "    <tr>\n",
       "      <th>565</th>\n",
       "      <td>27.697531</td>\n",
       "      <td>1</td>\n",
       "      <td>274</td>\n",
       "    </tr>\n",
       "    <tr>\n",
       "      <th>77</th>\n",
       "      <td>12.221340</td>\n",
       "      <td>0</td>\n",
       "      <td>104</td>\n",
       "    </tr>\n",
       "    <tr>\n",
       "      <th>181</th>\n",
       "      <td>13.404206</td>\n",
       "      <td>0</td>\n",
       "      <td>136</td>\n",
       "    </tr>\n",
       "  </tbody>\n",
       "</table>\n",
       "</div>"
      ],
      "text/plain": [
       "     Temperature  Is_Weekend  Ice_Creams_Sold\n",
       "110    18.692544           1              203\n",
       "419    32.571236           0              275\n",
       "565    27.697531           1              274\n",
       "77     12.221340           0              104\n",
       "181    13.404206           0              136"
      ]
     },
     "execution_count": 3,
     "metadata": {},
     "output_type": "execute_result"
    }
   ],
   "source": [
    "df = pd.read_csv(\"ice_cream_data.csv\", sep=\",\")\n",
    "df = df.sample(frac=1, random_state=42)\n",
    "df.head()"
   ]
  },
  {
   "cell_type": "markdown",
   "id": "2d5c47b7",
   "metadata": {},
   "source": [
    "### Separate input from target"
   ]
  },
  {
   "cell_type": "code",
   "execution_count": 4,
   "id": "a4df42bb",
   "metadata": {},
   "outputs": [],
   "source": [
    "targets = df[\"Ice_Creams_Sold\"]\n",
    "inputs = df.drop([\"Ice_Creams_Sold\"], axis=1)"
   ]
  },
  {
   "cell_type": "code",
   "execution_count": 5,
   "id": "d85bfcae",
   "metadata": {},
   "outputs": [
    {
     "data": {
      "text/plain": [
       "Temperature    10.151848\n",
       "Is_Weekend      0.000000\n",
       "dtype: float64"
      ]
     },
     "execution_count": 5,
     "metadata": {},
     "output_type": "execute_result"
    }
   ],
   "source": [
    "inputs.min()"
   ]
  },
  {
   "cell_type": "code",
   "execution_count": 6,
   "id": "e26679a8",
   "metadata": {},
   "outputs": [
    {
     "data": {
      "text/plain": [
       "Temperature    39.99153\n",
       "Is_Weekend      1.00000\n",
       "dtype: float64"
      ]
     },
     "execution_count": 6,
     "metadata": {},
     "output_type": "execute_result"
    }
   ],
   "source": [
    "inputs.max()"
   ]
  },
  {
   "cell_type": "markdown",
   "id": "af3b1ae8",
   "metadata": {},
   "source": [
    "### Normalize input"
   ]
  },
  {
   "cell_type": "code",
   "execution_count": 7,
   "id": "50535329",
   "metadata": {},
   "outputs": [],
   "source": [
    "def normalize_input(X: DataFrame):\n",
    "    result = (X - X.min()) / (X.max() - X.min())\n",
    "    return result"
   ]
  },
  {
   "cell_type": "code",
   "execution_count": 8,
   "id": "19f0f1eb",
   "metadata": {},
   "outputs": [],
   "source": [
    "norm_inputs = normalize_input(inputs)"
   ]
  },
  {
   "cell_type": "code",
   "execution_count": 9,
   "id": "1f554657",
   "metadata": {},
   "outputs": [
    {
     "data": {
      "text/plain": [
       "Temperature    0.0\n",
       "Is_Weekend     0.0\n",
       "dtype: float64"
      ]
     },
     "execution_count": 9,
     "metadata": {},
     "output_type": "execute_result"
    }
   ],
   "source": [
    "norm_inputs.min()"
   ]
  },
  {
   "cell_type": "code",
   "execution_count": 10,
   "id": "baccf532",
   "metadata": {},
   "outputs": [
    {
     "data": {
      "text/plain": [
       "Temperature    1.0\n",
       "Is_Weekend     1.0\n",
       "dtype: float64"
      ]
     },
     "execution_count": 10,
     "metadata": {},
     "output_type": "execute_result"
    }
   ],
   "source": [
    "norm_inputs.max()"
   ]
  },
  {
   "cell_type": "markdown",
   "id": "a89edbe1",
   "metadata": {},
   "source": [
    "### Numpy"
   ]
  },
  {
   "cell_type": "code",
   "execution_count": 11,
   "id": "bdeb0e1f",
   "metadata": {},
   "outputs": [
    {
     "data": {
      "text/plain": [
       "array([[0.2862194 , 1.        ],\n",
       "       [0.75132798, 0.        ],\n",
       "       [0.58799831, 1.        ],\n",
       "       [0.06935369, 0.        ],\n",
       "       [0.10899439, 0.        ]])"
      ]
     },
     "execution_count": 11,
     "metadata": {},
     "output_type": "execute_result"
    }
   ],
   "source": [
    "inputs = norm_inputs.to_numpy()\n",
    "inputs[:5]"
   ]
  },
  {
   "cell_type": "code",
   "execution_count": 12,
   "id": "8032bf0c",
   "metadata": {},
   "outputs": [
    {
     "data": {
      "text/plain": [
       "(600, 2)"
      ]
     },
     "execution_count": 12,
     "metadata": {},
     "output_type": "execute_result"
    }
   ],
   "source": [
    "inputs.shape"
   ]
  },
  {
   "cell_type": "code",
   "execution_count": 13,
   "id": "27286a56",
   "metadata": {},
   "outputs": [],
   "source": [
    "n_inputs = inputs.shape[1]"
   ]
  },
  {
   "cell_type": "code",
   "execution_count": 14,
   "id": "d112e5c5",
   "metadata": {},
   "outputs": [
    {
     "data": {
      "text/plain": [
       "array([203, 275, 274, 104, 136])"
      ]
     },
     "execution_count": 14,
     "metadata": {},
     "output_type": "execute_result"
    }
   ],
   "source": [
    "targets = targets.to_numpy()\n",
    "targets[:5]"
   ]
  },
  {
   "cell_type": "markdown",
   "id": "763b4c0e",
   "metadata": {},
   "source": [
    "### Train vs. Test set"
   ]
  },
  {
   "cell_type": "code",
   "execution_count": 15,
   "id": "3b9a0d86",
   "metadata": {},
   "outputs": [
    {
     "name": "stdout",
     "output_type": "stream",
     "text": [
      "Train size: 540, Test size: 60\n"
     ]
    }
   ],
   "source": [
    "test_size = int(len(inputs) * TEST_SIZE)\n",
    "print(f\"Train size: {len(inputs) - test_size}, Test size: {test_size}\")\n",
    "\n",
    "inputs_train = inputs[:-test_size]\n",
    "targets_train = targets[:-test_size]\n",
    "\n",
    "inputs_test = inputs[-test_size:]\n",
    "targets_test = targets[-test_size:]"
   ]
  },
  {
   "cell_type": "markdown",
   "id": "ebfab000",
   "metadata": {},
   "source": [
    "## Train Model"
   ]
  },
  {
   "cell_type": "markdown",
   "id": "60031968",
   "metadata": {},
   "source": [
    "### Hyperparameter tuning"
   ]
  },
  {
   "cell_type": "code",
   "execution_count": 16,
   "id": "3b0ca2c9",
   "metadata": {},
   "outputs": [
    {
     "name": "stdout",
     "output_type": "stream",
     "text": [
      "Search iteration: 1\n",
      "Testing learning_rate: 0.05 and batch_size: 8\n",
      "Loss: 178.03498381270487\n",
      "Search iteration: 2\n",
      "Testing learning_rate: 0.05 and batch_size: 16\n",
      "Loss: 175.230024969549\n",
      "Search iteration: 3\n",
      "Testing learning_rate: 0.05 and batch_size: 32\n",
      "Loss: 173.4520669669877\n",
      "Search iteration: 4\n",
      "Testing learning_rate: 0.05 and batch_size: 64\n",
      "Loss: 174.1435847997499\n",
      "Search iteration: 5\n",
      "Testing learning_rate: 0.05 and batch_size: 128\n",
      "Loss: 178.19800957833937\n",
      "Search iteration: 6\n",
      "Testing learning_rate: 0.05 and batch_size: 256\n",
      "Loss: 227.2413220207627\n",
      "Search iteration: 7\n",
      "Testing learning_rate: 0.01 and batch_size: 8\n",
      "Loss: 173.46432659869913\n",
      "Search iteration: 8\n",
      "Testing learning_rate: 0.01 and batch_size: 16\n",
      "Loss: 174.04955329182488\n",
      "Search iteration: 9\n",
      "Testing learning_rate: 0.01 and batch_size: 32\n",
      "Loss: 175.437536931622\n",
      "Search iteration: 10\n",
      "Testing learning_rate: 0.01 and batch_size: 64\n",
      "Loss: 178.86537131065867\n",
      "Search iteration: 11\n",
      "Testing learning_rate: 0.01 and batch_size: 128\n",
      "Loss: 480.5152082381943\n",
      "Search iteration: 12\n",
      "Testing learning_rate: 0.01 and batch_size: 256\n",
      "Loss: 559.9632324886272\n",
      "Search iteration: 13\n",
      "Testing learning_rate: 0.005 and batch_size: 8\n",
      "Loss: 177.06396216973496\n",
      "Search iteration: 14\n",
      "Testing learning_rate: 0.005 and batch_size: 16\n",
      "Loss: 176.13634071574452\n",
      "Search iteration: 15\n",
      "Testing learning_rate: 0.005 and batch_size: 32\n",
      "Loss: 197.15196350222598\n",
      "Search iteration: 16\n",
      "Testing learning_rate: 0.005 and batch_size: 64\n",
      "Loss: 226.68683292323598\n",
      "Search iteration: 17\n",
      "Testing learning_rate: 0.005 and batch_size: 128\n",
      "Loss: 622.073289087403\n",
      "Search iteration: 18\n",
      "Testing learning_rate: 0.005 and batch_size: 256\n",
      "Loss: 1571.6911895246385\n",
      "Search iteration: 19\n",
      "Testing learning_rate: 0.001 and batch_size: 8\n",
      "Loss: 177.17802561168997\n",
      "Search iteration: 20\n",
      "Testing learning_rate: 0.001 and batch_size: 16\n",
      "Loss: 188.24014739606352\n",
      "Search iteration: 21\n",
      "Testing learning_rate: 0.001 and batch_size: 32\n",
      "Loss: 190.33394985611378\n",
      "Search iteration: 22\n",
      "Testing learning_rate: 0.001 and batch_size: 64\n",
      "Loss: 427.47046503425565\n",
      "Search iteration: 23\n",
      "Testing learning_rate: 0.001 and batch_size: 128\n",
      "Loss: 1371.5804259843671\n",
      "Search iteration: 24\n",
      "Testing learning_rate: 0.001 and batch_size: 256\n",
      "Loss: 2059.5069217627174\n",
      "Search iteration: 25\n",
      "Testing learning_rate: 0.0005 and batch_size: 8\n",
      "Loss: 176.15463824369866\n",
      "Search iteration: 26\n",
      "Testing learning_rate: 0.0005 and batch_size: 16\n",
      "Loss: 189.1899358679067\n",
      "Search iteration: 27\n",
      "Testing learning_rate: 0.0005 and batch_size: 32\n",
      "Loss: 365.94293182864953\n",
      "Search iteration: 28\n",
      "Testing learning_rate: 0.0005 and batch_size: 64\n",
      "Loss: 889.0391961594022\n",
      "Search iteration: 29\n",
      "Testing learning_rate: 0.0005 and batch_size: 128\n",
      "Loss: 1424.7463923643145\n",
      "Search iteration: 30\n",
      "Testing learning_rate: 0.0005 and batch_size: 256\n",
      "Loss: 2240.6438881120075\n",
      "Search iteration: 31\n",
      "Testing learning_rate: 0.0001 and batch_size: 8\n",
      "Loss: 467.19729099264566\n",
      "Search iteration: 32\n",
      "Testing learning_rate: 0.0001 and batch_size: 16\n",
      "Loss: 1002.990049651128\n",
      "Search iteration: 33\n",
      "Testing learning_rate: 0.0001 and batch_size: 32\n",
      "Loss: 1562.921647904805\n",
      "Search iteration: 34\n",
      "Testing learning_rate: 0.0001 and batch_size: 64\n",
      "Loss: 2916.7170240933165\n",
      "Search iteration: 35\n",
      "Testing learning_rate: 0.0001 and batch_size: 128\n",
      "Loss: 8869.517296034255\n",
      "Search iteration: 36\n",
      "Testing learning_rate: 0.0001 and batch_size: 256\n",
      "Loss: 22192.495004384135\n"
     ]
    }
   ],
   "source": [
    "# Grid Search\n",
    "hp_grid = {\n",
    "    \"learning_rate\": [5e-2, 1e-2, 5e-3, 1e-3, 5e-4, 1e-4],\n",
    "    \"batch_size\": [8, 16, 32, 64, 128, 256]\n",
    "}\n",
    "\n",
    "iteration = 0\n",
    "best_loss = np.inf\n",
    "best_learning_rate = 0\n",
    "best_batch_size = 0\n",
    "for learning_rate in hp_grid[\"learning_rate\"]:\n",
    "    for batch_size in hp_grid[\"batch_size\"]:\n",
    "        iteration += 1\n",
    "        print(f\"Search iteration: {iteration}\")\n",
    "        print(f\"Testing learning_rate: {learning_rate} and batch_size: {batch_size}\")\n",
    "\n",
    "        inputs, target, output, loss = build_model(n_inputs, HIDDEN_LAYERS_NUM, HIDDEN_NEURONS_NUM)\n",
    "        history = train_model(inputs_train, inputs_test, targets_train, targets_test, EPOCHS, batch_size, learning_rate, inputs, target, loss, EARLY_STOPPING_PATIENCE, EARLY_STOPPING_DELTA, log=False)\n",
    "        average_loss = evaluate_model(inputs_test, targets_test, inputs, target, loss)\n",
    "\n",
    "        print(f\"Loss: {average_loss}\")\n",
    "\n",
    "        if (average_loss < best_loss):\n",
    "            best_loss = average_loss\n",
    "            best_learning_rate = learning_rate\n",
    "            best_batch_size = batch_size"
   ]
  },
  {
   "cell_type": "code",
   "execution_count": 17,
   "id": "1b5e1816",
   "metadata": {},
   "outputs": [
    {
     "name": "stdout",
     "output_type": "stream",
     "text": [
      "32\n",
      "0.05\n"
     ]
    }
   ],
   "source": [
    "print(best_batch_size)\n",
    "print(best_learning_rate)"
   ]
  },
  {
   "cell_type": "markdown",
   "id": "4dd2e346",
   "metadata": {},
   "source": [
    "### Training"
   ]
  },
  {
   "cell_type": "code",
   "execution_count": 18,
   "id": "e72eec4b",
   "metadata": {},
   "outputs": [
    {
     "name": "stdout",
     "output_type": "stream",
     "text": [
      "Epoch 0: loss=11841.171436971048, test_loss=inf\n",
      "Epoch 1: loss=1636.7062743627043, test_loss=1820.4987078549455\n",
      "Epoch 2: loss=1359.8035831757006, test_loss=1555.8040965847354\n",
      "Epoch 3: loss=1193.3941331310837, test_loss=1389.1816559736833\n",
      "Epoch 4: loss=893.2842351896054, test_loss=954.8401599278692\n",
      "Epoch 5: loss=808.8727004901792, test_loss=968.0472485085461\n",
      "Epoch 6: loss=744.4517306942656, test_loss=818.1572790858738\n",
      "Epoch 7: loss=685.5473345207838, test_loss=718.6068903895631\n",
      "Epoch 8: loss=583.8751204364655, test_loss=503.2050463459167\n",
      "Epoch 9: loss=540.7838491769844, test_loss=502.7040692246115\n",
      "Epoch 10: loss=467.58553929438756, test_loss=451.18491189690224\n",
      "Epoch 11: loss=419.34769868267125, test_loss=336.5588460724117\n",
      "Epoch 12: loss=421.1048676545482, test_loss=332.2011459094735\n",
      "Epoch 13: loss=406.04739689949463, test_loss=311.94663747757164\n",
      "Epoch 14: loss=357.3683579717848, test_loss=289.5131784637496\n",
      "Epoch 15: loss=336.48873966061217, test_loss=261.3642684722129\n",
      "Epoch 16: loss=349.61444771207283, test_loss=245.8437274985914\n",
      "Epoch 17: loss=318.61062371737, test_loss=258.072777646593\n",
      "Epoch 18: loss=302.39804953483906, test_loss=283.7952130730801\n",
      "Epoch 19: loss=301.7629540920455, test_loss=247.0034739887178\n",
      "Epoch 20: loss=265.53380080445436, test_loss=204.4795533614795\n",
      "Epoch 21: loss=280.41926120203607, test_loss=191.20405598873197\n",
      "Epoch 22: loss=290.3565724666967, test_loss=196.5567968146939\n",
      "Epoch 23: loss=257.76393013112846, test_loss=184.66027933264405\n",
      "Epoch 24: loss=267.1778531902761, test_loss=181.01514836484577\n",
      "Epoch 25: loss=258.8006780266572, test_loss=187.25449141473376\n",
      "Epoch 26: loss=258.17654402302566, test_loss=185.71466245569698\n",
      "Epoch 27: loss=266.0725025271866, test_loss=179.8864461415854\n",
      "Epoch 28: loss=263.61793705960645, test_loss=262.87991714881076\n",
      "Epoch 29: loss=243.50819857399438, test_loss=204.9002500872412\n",
      "Epoch 30: loss=254.84779858055322, test_loss=179.92743164120955\n",
      "Epoch 31: loss=261.8239666407547, test_loss=181.66019867927895\n",
      "Epoch 32: loss=277.170248748325, test_loss=189.8176849298812\n",
      "Epoch 33: loss=244.99709125114504, test_loss=174.4175036647751\n",
      "Epoch 34: loss=257.5959203256666, test_loss=198.50706443063163\n",
      "Epoch 35: loss=248.3820303395208, test_loss=195.8976163374492\n",
      "Epoch 36: loss=243.26199403465458, test_loss=202.54516155099498\n",
      "Epoch 37: loss=246.73868769813194, test_loss=178.83540606626013\n",
      "Epoch 38: loss=255.05089434249285, test_loss=180.01865538317367\n",
      "Epoch 39: loss=266.48444014101443, test_loss=213.91459274229845\n",
      "Epoch 40: loss=252.35325946263941, test_loss=318.6040198701295\n",
      "Epoch 41: loss=232.26408335433834, test_loss=182.89376437156338\n",
      "Epoch 42: loss=262.06260663654666, test_loss=175.20946057137377\n",
      "32\n",
      "174.4175036647751\n"
     ]
    }
   ],
   "source": [
    "inputs, target, output, loss = build_model(n_inputs, HIDDEN_LAYERS_NUM, HIDDEN_NEURONS_NUM)\n",
    "\n",
    "history = train_model(inputs_train, inputs_test, targets_train, targets_test, EPOCHS, best_batch_size, best_learning_rate, inputs, target, loss, EARLY_STOPPING_PATIENCE, EARLY_STOPPING_DELTA)"
   ]
  },
  {
   "cell_type": "code",
   "execution_count": 19,
   "id": "c3fee4d6",
   "metadata": {},
   "outputs": [
    {
     "data": {
      "text/plain": [
       "<matplotlib.legend.Legend at 0x765adae9c560>"
      ]
     },
     "execution_count": 19,
     "metadata": {},
     "output_type": "execute_result"
    },
    {
     "data": {
      "image/png": "[encoded data removed]",
      "text/plain": [
       "<Figure size 640x480 with 1 Axes>"
      ]
     },
     "metadata": {},
     "output_type": "display_data"
    }
   ],
   "source": [
    "plt.plot(history[\"train_loss\"], label=\"train_loss\")\n",
    "plt.plot(history[\"test_loss\"], label=\"test_loss\")\n",
    "plt.xlabel(\"Epoch\")\n",
    "plt.ylabel(\"Loss\")\n",
    "plt.ylim(0, 2000)\n",
    "plt.legend(loc=\"lower right\")"
   ]
  },
  {
   "cell_type": "code",
   "execution_count": 20,
   "id": "6ea33d31",
   "metadata": {},
   "outputs": [
    {
     "data": {
      "image/svg+xml": [
       "<?xml version=\"1.0\" encoding=\"UTF-8\" standalone=\"no\"?>\n",
       "<!DOCTYPE svg PUBLIC \"-//W3C//DTD SVG 1.1//EN\"\n",
       " \"http://www.w3.org/Graphics/SVG/1.1/DTD/svg11.dtd\">\n",
       "<!-- Generated by graphviz version 2.50.0 (0)\n",
       " -->\n",
       "<!-- Pages: 1 -->\n",
       "<svg width=\"2094pt\" height=\"210pt\"\n",
       " viewBox=\"0.00 0.00 2093.79 210.00\" xmlns=\"http://www.w3.org/2000/svg\" xmlns:xlink=\"http://www.w3.org/1999/xlink\">\n",
       "<g id=\"graph0\" class=\"graph\" transform=\"scale(1 1) rotate(0) translate(4 206)\">\n",
       "<polygon fill=\"white\" stroke=\"transparent\" points=\"-4,4 -4,-206 2089.79,-206 2089.79,4 -4,4\"/>\n",
       "<!-- 130132591890976 -->\n",
       "<g id=\"node1\" class=\"node\">\n",
       "<title>130132591890976</title>\n",
       "<polygon fill=\"none\" stroke=\"black\" points=\"424,-55.5 424,-91.5 775,-91.5 775,-55.5 424,-55.5\"/>\n",
       "<text text-anchor=\"middle\" x=\"492\" y=\"-69.8\" font-family=\"Times,serif\" font-size=\"14.00\">weighted_input0</text>\n",
       "<polyline fill=\"none\" stroke=\"black\" points=\"560,-55.5 560,-91.5 \"/>\n",
       "<text text-anchor=\"middle\" x=\"615.5\" y=\"-69.8\" font-family=\"Times,serif\" font-size=\"14.00\">data 73.8537</text>\n",
       "<polyline fill=\"none\" stroke=\"black\" points=\"671,-55.5 671,-91.5 \"/>\n",
       "<text text-anchor=\"middle\" x=\"723\" y=\"-69.8\" font-family=\"Times,serif\" font-size=\"14.00\">grad 5.0983</text>\n",
       "</g>\n",
       "<!-- 130132592178240+ -->\n",
       "<g id=\"node5\" class=\"node\">\n",
       "<title>130132592178240+</title>\n",
       "<ellipse fill=\"none\" stroke=\"black\" cx=\"838\" cy=\"-100.5\" rx=\"27\" ry=\"18\"/>\n",
       "<text text-anchor=\"middle\" x=\"838\" y=\"-96.8\" font-family=\"Times,serif\" font-size=\"14.00\">+</text>\n",
       "</g>\n",
       "<!-- 130132591890976&#45;&gt;130132592178240+ -->\n",
       "<g id=\"edge7\" class=\"edge\">\n",
       "<title>130132591890976&#45;&gt;130132592178240+</title>\n",
       "<path fill=\"none\" stroke=\"black\" d=\"M758.25,-91.51C773.98,-93.3 788.65,-94.98 800.97,-96.39\"/>\n",
       "<polygon fill=\"black\" stroke=\"black\" points=\"800.82,-99.89 811.16,-97.55 801.62,-92.94 800.82,-99.89\"/>\n",
       "</g>\n",
       "<!-- 130132591890976* -->\n",
       "<g id=\"node2\" class=\"node\">\n",
       "<title>130132591890976*</title>\n",
       "<ellipse fill=\"none\" stroke=\"black\" cx=\"361\" cy=\"-73.5\" rx=\"27\" ry=\"18\"/>\n",
       "<text text-anchor=\"middle\" x=\"361\" y=\"-69.8\" font-family=\"Times,serif\" font-size=\"14.00\">*</text>\n",
       "</g>\n",
       "<!-- 130132591890976*&#45;&gt;130132591890976 -->\n",
       "<g id=\"edge1\" class=\"edge\">\n",
       "<title>130132591890976*&#45;&gt;130132591890976</title>\n",
       "<path fill=\"none\" stroke=\"black\" d=\"M388.21,-73.5C395.53,-73.5 404.08,-73.5 413.47,-73.5\"/>\n",
       "<polygon fill=\"black\" stroke=\"black\" points=\"413.53,-77 423.53,-73.5 413.53,-70 413.53,-77\"/>\n",
       "</g>\n",
       "<!-- 130132592070720 -->\n",
       "<g id=\"node3\" class=\"node\">\n",
       "<title>130132592070720</title>\n",
       "<polygon fill=\"none\" stroke=\"black\" points=\"1,-55.5 1,-91.5 297,-91.5 297,-55.5 1,-55.5\"/>\n",
       "<text text-anchor=\"middle\" x=\"32.5\" y=\"-69.8\" font-family=\"Times,serif\" font-size=\"14.00\">input0</text>\n",
       "<polyline fill=\"none\" stroke=\"black\" points=\"64,-55.5 64,-91.5 \"/>\n",
       "<text text-anchor=\"middle\" x=\"115\" y=\"-69.8\" font-family=\"Times,serif\" font-size=\"14.00\">data 0.3110</text>\n",
       "<polyline fill=\"none\" stroke=\"black\" points=\"166,-55.5 166,-91.5 \"/>\n",
       "<text text-anchor=\"middle\" x=\"231.5\" y=\"-69.8\" font-family=\"Times,serif\" font-size=\"14.00\">grad 1212.1313</text>\n",
       "</g>\n",
       "<!-- 130132592070720&#45;&gt;130132591890976* -->\n",
       "<g id=\"edge14\" class=\"edge\">\n",
       "<title>130132592070720&#45;&gt;130132591890976*</title>\n",
       "<path fill=\"none\" stroke=\"black\" d=\"M297.28,-73.5C306.72,-73.5 315.61,-73.5 323.57,-73.5\"/>\n",
       "<polygon fill=\"black\" stroke=\"black\" points=\"323.81,-77 333.81,-73.5 323.81,-70 323.81,-77\"/>\n",
       "</g>\n",
       "<!-- 130132592178240 -->\n",
       "<g id=\"node4\" class=\"node\">\n",
       "<title>130132592178240</title>\n",
       "<polygon fill=\"none\" stroke=\"black\" points=\"901,-82.5 901,-118.5 1280,-118.5 1280,-82.5 901,-82.5\"/>\n",
       "<text text-anchor=\"middle\" x=\"983\" y=\"-96.8\" font-family=\"Times,serif\" font-size=\"14.00\">weighted_input_sum</text>\n",
       "<polyline fill=\"none\" stroke=\"black\" points=\"1065,-82.5 1065,-118.5 \"/>\n",
       "<text text-anchor=\"middle\" x=\"1120.5\" y=\"-96.8\" font-family=\"Times,serif\" font-size=\"14.00\">data 73.8537</text>\n",
       "<polyline fill=\"none\" stroke=\"black\" points=\"1176,-82.5 1176,-118.5 \"/>\n",
       "<text text-anchor=\"middle\" x=\"1228\" y=\"-96.8\" font-family=\"Times,serif\" font-size=\"14.00\">grad 5.0983</text>\n",
       "</g>\n",
       "<!-- 130132592179104+ -->\n",
       "<g id=\"node14\" class=\"node\">\n",
       "<title>130132592179104+</title>\n",
       "<ellipse fill=\"none\" stroke=\"black\" cx=\"1343\" cy=\"-127.5\" rx=\"27\" ry=\"18\"/>\n",
       "<text text-anchor=\"middle\" x=\"1343\" y=\"-123.8\" font-family=\"Times,serif\" font-size=\"14.00\">+</text>\n",
       "</g>\n",
       "<!-- 130132592178240&#45;&gt;130132592179104+ -->\n",
       "<g id=\"edge9\" class=\"edge\">\n",
       "<title>130132592178240&#45;&gt;130132592179104+</title>\n",
       "<path fill=\"none\" stroke=\"black\" d=\"M1258.59,-118.51C1276.15,-120.4 1292.47,-122.16 1305.94,-123.61\"/>\n",
       "<polygon fill=\"black\" stroke=\"black\" points=\"1305.77,-127.12 1316.09,-124.71 1306.52,-120.16 1305.77,-127.12\"/>\n",
       "</g>\n",
       "<!-- 130132592178240+&#45;&gt;130132592178240 -->\n",
       "<g id=\"edge2\" class=\"edge\">\n",
       "<title>130132592178240+&#45;&gt;130132592178240</title>\n",
       "<path fill=\"none\" stroke=\"black\" d=\"M865.33,-100.5C872.7,-100.5 881.32,-100.5 890.81,-100.5\"/>\n",
       "<polygon fill=\"black\" stroke=\"black\" points=\"890.99,-104 900.99,-100.5 890.99,-97 890.99,-104\"/>\n",
       "</g>\n",
       "<!-- 130132592170176 -->\n",
       "<g id=\"node6\" class=\"node\">\n",
       "<title>130132592170176</title>\n",
       "<polygon fill=\"none\" stroke=\"black\" points=\"1826.79,-136.5 1826.79,-172.5 2085.79,-172.5 2085.79,-136.5 1826.79,-136.5\"/>\n",
       "<text text-anchor=\"middle\" x=\"1848.79\" y=\"-150.8\" font-family=\"Times,serif\" font-size=\"14.00\">loss</text>\n",
       "<polyline fill=\"none\" stroke=\"black\" points=\"1870.79,-136.5 1870.79,-172.5 \"/>\n",
       "<text text-anchor=\"middle\" x=\"1926.29\" y=\"-150.8\" font-family=\"Times,serif\" font-size=\"14.00\">data 30.0229</text>\n",
       "<polyline fill=\"none\" stroke=\"black\" points=\"1981.79,-136.5 1981.79,-172.5 \"/>\n",
       "<text text-anchor=\"middle\" x=\"2033.79\" y=\"-150.8\" font-family=\"Times,serif\" font-size=\"14.00\">grad 1.0000</text>\n",
       "</g>\n",
       "<!-- 130132592170176mse -->\n",
       "<g id=\"node7\" class=\"node\">\n",
       "<title>130132592170176mse</title>\n",
       "<ellipse fill=\"none\" stroke=\"black\" cx=\"1760.9\" cy=\"-154.5\" rx=\"29.8\" ry=\"18\"/>\n",
       "<text text-anchor=\"middle\" x=\"1760.9\" y=\"-150.8\" font-family=\"Times,serif\" font-size=\"14.00\">mse</text>\n",
       "</g>\n",
       "<!-- 130132592170176mse&#45;&gt;130132592170176 -->\n",
       "<g id=\"edge3\" class=\"edge\">\n",
       "<title>130132592170176mse&#45;&gt;130132592170176</title>\n",
       "<path fill=\"none\" stroke=\"black\" d=\"M1790.85,-154.5C1798.36,-154.5 1806.96,-154.5 1816.2,-154.5\"/>\n",
       "<polygon fill=\"black\" stroke=\"black\" points=\"1816.47,-158 1826.47,-154.5 1816.47,-151 1816.47,-158\"/>\n",
       "</g>\n",
       "<!-- 130133766742736 -->\n",
       "<g id=\"node8\" class=\"node\">\n",
       "<title>130133766742736</title>\n",
       "<polygon fill=\"none\" stroke=\"black\" points=\"4.5,-165.5 4.5,-201.5 293.5,-201.5 293.5,-165.5 4.5,-165.5\"/>\n",
       "<text text-anchor=\"middle\" x=\"41.5\" y=\"-179.8\" font-family=\"Times,serif\" font-size=\"14.00\">weight1</text>\n",
       "<polyline fill=\"none\" stroke=\"black\" points=\"78.5,-165.5 78.5,-201.5 \"/>\n",
       "<text text-anchor=\"middle\" x=\"134\" y=\"-179.8\" font-family=\"Times,serif\" font-size=\"14.00\">data 48.8070</text>\n",
       "<polyline fill=\"none\" stroke=\"black\" points=\"189.5,-165.5 189.5,-201.5 \"/>\n",
       "<text text-anchor=\"middle\" x=\"241.5\" y=\"-179.8\" font-family=\"Times,serif\" font-size=\"14.00\">grad 5.0983</text>\n",
       "</g>\n",
       "<!-- 130132592177040* -->\n",
       "<g id=\"node12\" class=\"node\">\n",
       "<title>130132592177040*</title>\n",
       "<ellipse fill=\"none\" stroke=\"black\" cx=\"361\" cy=\"-128.5\" rx=\"27\" ry=\"18\"/>\n",
       "<text text-anchor=\"middle\" x=\"361\" y=\"-124.8\" font-family=\"Times,serif\" font-size=\"14.00\">*</text>\n",
       "</g>\n",
       "<!-- 130133766742736&#45;&gt;130132592177040* -->\n",
       "<g id=\"edge15\" class=\"edge\">\n",
       "<title>130133766742736&#45;&gt;130132592177040*</title>\n",
       "<path fill=\"none\" stroke=\"black\" d=\"M264.61,-165.47C275.98,-162.83 287.28,-159.84 298,-156.5 308.77,-153.14 320.13,-148.39 330.14,-143.76\"/>\n",
       "<polygon fill=\"black\" stroke=\"black\" points=\"331.75,-146.87 339.26,-139.4 328.73,-140.55 331.75,-146.87\"/>\n",
       "</g>\n",
       "<!-- 130132594352896 -->\n",
       "<g id=\"node9\" class=\"node\">\n",
       "<title>130132594352896</title>\n",
       "<polygon fill=\"none\" stroke=\"black\" points=\"5.5,-110.5 5.5,-146.5 292.5,-146.5 292.5,-110.5 5.5,-110.5\"/>\n",
       "<text text-anchor=\"middle\" x=\"37\" y=\"-124.8\" font-family=\"Times,serif\" font-size=\"14.00\">input1</text>\n",
       "<polyline fill=\"none\" stroke=\"black\" points=\"68.5,-110.5 68.5,-146.5 \"/>\n",
       "<text text-anchor=\"middle\" x=\"119.5\" y=\"-124.8\" font-family=\"Times,serif\" font-size=\"14.00\">data 0.0000</text>\n",
       "<polyline fill=\"none\" stroke=\"black\" points=\"170.5,-110.5 170.5,-146.5 \"/>\n",
       "<text text-anchor=\"middle\" x=\"231.5\" y=\"-124.8\" font-family=\"Times,serif\" font-size=\"14.00\">grad 280.6094</text>\n",
       "</g>\n",
       "<!-- 130132594352896&#45;&gt;130132592177040* -->\n",
       "<g id=\"edge10\" class=\"edge\">\n",
       "<title>130132594352896&#45;&gt;130132592177040*</title>\n",
       "<path fill=\"none\" stroke=\"black\" d=\"M292.69,-128.5C303.9,-128.5 314.45,-128.5 323.72,-128.5\"/>\n",
       "<polygon fill=\"black\" stroke=\"black\" points=\"323.99,-132 333.99,-128.5 323.99,-125 323.99,-132\"/>\n",
       "</g>\n",
       "<!-- 130132598006576 -->\n",
       "<g id=\"node10\" class=\"node\">\n",
       "<title>130132598006576</title>\n",
       "<polygon fill=\"none\" stroke=\"black\" points=\"960,-137.5 960,-173.5 1221,-173.5 1221,-137.5 960,-137.5\"/>\n",
       "<text text-anchor=\"middle\" x=\"983\" y=\"-151.8\" font-family=\"Times,serif\" font-size=\"14.00\">bias</text>\n",
       "<polyline fill=\"none\" stroke=\"black\" points=\"1006,-137.5 1006,-173.5 \"/>\n",
       "<text text-anchor=\"middle\" x=\"1061.5\" y=\"-151.8\" font-family=\"Times,serif\" font-size=\"14.00\">data 86.9243</text>\n",
       "<polyline fill=\"none\" stroke=\"black\" points=\"1117,-137.5 1117,-173.5 \"/>\n",
       "<text text-anchor=\"middle\" x=\"1169\" y=\"-151.8\" font-family=\"Times,serif\" font-size=\"14.00\">grad 5.0983</text>\n",
       "</g>\n",
       "<!-- 130132598006576&#45;&gt;130132592179104+ -->\n",
       "<g id=\"edge12\" class=\"edge\">\n",
       "<title>130132598006576&#45;&gt;130132592179104+</title>\n",
       "<path fill=\"none\" stroke=\"black\" d=\"M1221.15,-141.01C1252.48,-137.51 1283.45,-134.05 1306.19,-131.5\"/>\n",
       "<polygon fill=\"black\" stroke=\"black\" points=\"1306.79,-134.96 1316.34,-130.37 1306.01,-128 1306.79,-134.96\"/>\n",
       "</g>\n",
       "<!-- 130132592177040 -->\n",
       "<g id=\"node11\" class=\"node\">\n",
       "<title>130132592177040</title>\n",
       "<polygon fill=\"none\" stroke=\"black\" points=\"428.5,-110.5 428.5,-146.5 770.5,-146.5 770.5,-110.5 428.5,-110.5\"/>\n",
       "<text text-anchor=\"middle\" x=\"496.5\" y=\"-124.8\" font-family=\"Times,serif\" font-size=\"14.00\">weighted_input1</text>\n",
       "<polyline fill=\"none\" stroke=\"black\" points=\"564.5,-110.5 564.5,-146.5 \"/>\n",
       "<text text-anchor=\"middle\" x=\"615.5\" y=\"-124.8\" font-family=\"Times,serif\" font-size=\"14.00\">data 0.0000</text>\n",
       "<polyline fill=\"none\" stroke=\"black\" points=\"666.5,-110.5 666.5,-146.5 \"/>\n",
       "<text text-anchor=\"middle\" x=\"718.5\" y=\"-124.8\" font-family=\"Times,serif\" font-size=\"14.00\">grad 5.0983</text>\n",
       "</g>\n",
       "<!-- 130132592177040&#45;&gt;130132592178240+ -->\n",
       "<g id=\"edge8\" class=\"edge\">\n",
       "<title>130132592177040&#45;&gt;130132592178240+</title>\n",
       "<path fill=\"none\" stroke=\"black\" d=\"M752.62,-110.49C770.63,-108.36 787.49,-106.36 801.33,-104.72\"/>\n",
       "<polygon fill=\"black\" stroke=\"black\" points=\"801.78,-108.19 811.3,-103.54 800.96,-101.24 801.78,-108.19\"/>\n",
       "</g>\n",
       "<!-- 130132592177040*&#45;&gt;130132592177040 -->\n",
       "<g id=\"edge4\" class=\"edge\">\n",
       "<title>130132592177040*&#45;&gt;130132592177040</title>\n",
       "<path fill=\"none\" stroke=\"black\" d=\"M388.21,-128.5C396.77,-128.5 407.01,-128.5 418.3,-128.5\"/>\n",
       "<polygon fill=\"black\" stroke=\"black\" points=\"418.48,-132 428.48,-128.5 418.48,-125 418.48,-132\"/>\n",
       "</g>\n",
       "<!-- 130132592179104 -->\n",
       "<g id=\"node13\" class=\"node\">\n",
       "<title>130132592179104</title>\n",
       "<polygon fill=\"none\" stroke=\"black\" points=\"1406.5,-109.5 1406.5,-145.5 1694.5,-145.5 1694.5,-109.5 1406.5,-109.5\"/>\n",
       "<text text-anchor=\"middle\" x=\"1438.5\" y=\"-123.8\" font-family=\"Times,serif\" font-size=\"14.00\">output</text>\n",
       "<polyline fill=\"none\" stroke=\"black\" points=\"1470.5,-109.5 1470.5,-145.5 \"/>\n",
       "<text text-anchor=\"middle\" x=\"1530.5\" y=\"-123.8\" font-family=\"Times,serif\" font-size=\"14.00\">data 157.4793</text>\n",
       "<polyline fill=\"none\" stroke=\"black\" points=\"1590.5,-109.5 1590.5,-145.5 \"/>\n",
       "<text text-anchor=\"middle\" x=\"1642.5\" y=\"-123.8\" font-family=\"Times,serif\" font-size=\"14.00\">grad 5.0983</text>\n",
       "</g>\n",
       "<!-- 130132592179104&#45;&gt;130132592170176mse -->\n",
       "<g id=\"edge6\" class=\"edge\">\n",
       "<title>130132592179104&#45;&gt;130132592170176mse</title>\n",
       "<path fill=\"none\" stroke=\"black\" d=\"M1690.5,-145.51C1701.57,-146.94 1712.05,-148.3 1721.34,-149.5\"/>\n",
       "<polygon fill=\"black\" stroke=\"black\" points=\"1720.94,-152.98 1731.31,-150.8 1721.84,-146.04 1720.94,-152.98\"/>\n",
       "</g>\n",
       "<!-- 130132592179104+&#45;&gt;130132592179104 -->\n",
       "<g id=\"edge5\" class=\"edge\">\n",
       "<title>130132592179104+&#45;&gt;130132592179104</title>\n",
       "<path fill=\"none\" stroke=\"black\" d=\"M1370.03,-127.5C1377.56,-127.5 1386.38,-127.5 1395.98,-127.5\"/>\n",
       "<polygon fill=\"black\" stroke=\"black\" points=\"1396.25,-131 1406.25,-127.5 1396.25,-124 1396.25,-131\"/>\n",
       "</g>\n",
       "<!-- 130132591887280 -->\n",
       "<g id=\"node15\" class=\"node\">\n",
       "<title>130132591887280</title>\n",
       "<polygon fill=\"none\" stroke=\"black\" points=\"0,-0.5 0,-36.5 298,-36.5 298,-0.5 0,-0.5\"/>\n",
       "<text text-anchor=\"middle\" x=\"37\" y=\"-14.8\" font-family=\"Times,serif\" font-size=\"14.00\">weight0</text>\n",
       "<polyline fill=\"none\" stroke=\"black\" points=\"74,-0.5 74,-36.5 \"/>\n",
       "<text text-anchor=\"middle\" x=\"134\" y=\"-14.8\" font-family=\"Times,serif\" font-size=\"14.00\">data 234.6407</text>\n",
       "<polyline fill=\"none\" stroke=\"black\" points=\"194,-0.5 194,-36.5 \"/>\n",
       "<text text-anchor=\"middle\" x=\"246\" y=\"-14.8\" font-family=\"Times,serif\" font-size=\"14.00\">grad 4.9455</text>\n",
       "</g>\n",
       "<!-- 130132591887280&#45;&gt;130132591890976* -->\n",
       "<g id=\"edge11\" class=\"edge\">\n",
       "<title>130132591887280&#45;&gt;130132591890976*</title>\n",
       "<path fill=\"none\" stroke=\"black\" d=\"M260.19,-36.51C273.04,-39.44 285.88,-42.77 298,-46.5 308.52,-49.74 319.65,-54.23 329.53,-58.62\"/>\n",
       "<polygon fill=\"black\" stroke=\"black\" points=\"328.38,-61.94 338.93,-62.92 331.29,-55.57 328.38,-61.94\"/>\n",
       "</g>\n",
       "<!-- 130132592180208 -->\n",
       "<g id=\"node16\" class=\"node\">\n",
       "<title>130132592180208</title>\n",
       "<polygon fill=\"none\" stroke=\"black\" points=\"1406,-164.5 1406,-200.5 1695,-200.5 1695,-164.5 1406,-164.5\"/>\n",
       "<text text-anchor=\"middle\" x=\"1436.5\" y=\"-178.8\" font-family=\"Times,serif\" font-size=\"14.00\">target</text>\n",
       "<polyline fill=\"none\" stroke=\"black\" points=\"1467,-164.5 1467,-200.5 \"/>\n",
       "<text text-anchor=\"middle\" x=\"1527\" y=\"-178.8\" font-family=\"Times,serif\" font-size=\"14.00\">data 152.0000</text>\n",
       "<polyline fill=\"none\" stroke=\"black\" points=\"1587,-164.5 1587,-200.5 \"/>\n",
       "<text text-anchor=\"middle\" x=\"1641\" y=\"-178.8\" font-family=\"Times,serif\" font-size=\"14.00\">grad &#45;5.0983</text>\n",
       "</g>\n",
       "<!-- 130132592180208&#45;&gt;130132592170176mse -->\n",
       "<g id=\"edge13\" class=\"edge\">\n",
       "<title>130132592180208&#45;&gt;130132592170176mse</title>\n",
       "<path fill=\"none\" stroke=\"black\" d=\"M1685.54,-164.49C1698.46,-162.75 1710.71,-161.11 1721.4,-159.67\"/>\n",
       "<polygon fill=\"black\" stroke=\"black\" points=\"1722.1,-163.11 1731.54,-158.31 1721.16,-156.17 1722.1,-163.11\"/>\n",
       "</g>\n",
       "</g>\n",
       "</svg>\n"
      ],
      "text/plain": [
       "<graphviz.graphs.Digraph at 0x765ad8c35e50>"
      ]
     },
     "execution_count": 20,
     "metadata": {},
     "output_type": "execute_result"
    }
   ],
   "source": [
    "draw_dot(loss)"
   ]
  },
  {
   "cell_type": "markdown",
   "id": "f3cb34e5",
   "metadata": {},
   "source": [
    "## Test solution"
   ]
  },
  {
   "cell_type": "code",
   "execution_count": 21,
   "id": "a4aa7897",
   "metadata": {},
   "outputs": [],
   "source": [
    "average_loss = evaluate_model(inputs_test, targets_test, inputs, target, loss)"
   ]
  },
  {
   "cell_type": "code",
   "execution_count": 22,
   "id": "146c9bee",
   "metadata": {},
   "outputs": [
    {
     "name": "stdout",
     "output_type": "stream",
     "text": [
      "RMSE: 13.206721912146671\n",
      "Mean of targets: 216.425\n"
     ]
    }
   ],
   "source": [
    "rmse = np.sqrt(average_loss)\n",
    "mean_target = np.mean(targets)\n",
    "print(\"RMSE:\", rmse)\n",
    "print(\"Mean of targets:\", mean_target)"
   ]
  }
 ],
 "metadata": {
  "kernelspec": {
   "display_name": "base",
   "language": "python",
   "name": "python3"
  },
  "language_info": {
   "codemirror_mode": {
    "name": "ipython",
    "version": 3
   },
   "file_extension": ".py",
   "mimetype": "text/x-python",
   "name": "python",
   "nbconvert_exporter": "python",
   "pygments_lexer": "ipython3",
   "version": "3.12.2"
  }
 },
 "nbformat": 4,
 "nbformat_minor": 5
}
